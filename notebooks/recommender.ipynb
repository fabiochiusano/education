{
 "cells": [
  {
   "cell_type": "code",
   "execution_count": 1,
   "metadata": {},
   "outputs": [],
   "source": [
    "import numpy as np\n",
    "import pandas as pd\n",
    "import os\n",
    "from os import listdir\n",
    "from os.path import isfile, join\n",
    "import json\n",
    "import matplotlib.pyplot as plt\n",
    "from bs4 import BeautifulSoup\n",
    "from bs4.element import Tag"
   ]
  },
  {
   "cell_type": "code",
   "execution_count": 2,
   "metadata": {},
   "outputs": [],
   "source": [
    "def remove_hidden(l):\n",
    "    return [el for el in l if el[0] != \".\"]\n",
    "\n",
    "def get_relative_path_to_dirs(start_path):\n",
    "    subdirs = [x[1] for x in os.walk(start_path)][0]\n",
    "    subdirs = remove_hidden(subdirs)\n",
    "    subdirs = [start_path + \"/\" + subdir for subdir in subdirs]\n",
    "    return subdirs\n",
    "\n",
    "def get_relative_path_to_files(start_path):\n",
    "    files = [f for f in listdir(start_path) if isfile(join(start_path, f))]\n",
    "    files = remove_hidden(files)\n",
    "    files = [start_path + \"/\" + file for file in files]\n",
    "    return files"
   ]
  },
  {
   "cell_type": "code",
   "execution_count": 3,
   "metadata": {},
   "outputs": [
    {
     "data": {
      "text/plain": [
       "['../articles/medium',\n",
       " '../articles/splinters',\n",
       " '../articles/tutorialspoint',\n",
       " '../articles/wikihow',\n",
       " '../articles/kdnuggets',\n",
       " '../articles/smartdatacollective']"
      ]
     },
     "execution_count": 3,
     "metadata": {},
     "output_type": "execute_result"
    }
   ],
   "source": [
    "home_articles_directory = \"../articles\"\n",
    "\n",
    "subdirs = get_relative_path_to_dirs(home_articles_directory)\n",
    "subdirs"
   ]
  },
  {
   "cell_type": "markdown",
   "metadata": {},
   "source": [
    "## Read dataset"
   ]
  },
  {
   "cell_type": "code",
   "execution_count": 5,
   "metadata": {},
   "outputs": [],
   "source": [
    "dataset = []\n",
    "\n",
    "for subdir in subdirs:\n",
    "    subsubdirs = get_relative_path_to_dirs(subdir)\n",
    "    for subsubdir in subsubdirs:\n",
    "        onlyfiles = get_relative_path_to_files(subsubdir)\n",
    "        read_json_list = []\n",
    "        for file in onlyfiles:\n",
    "            with open(file, 'r') as infile:\n",
    "                d = json.load(infile)\n",
    "                dataset.append(d)"
   ]
  },
  {
   "cell_type": "code",
   "execution_count": 6,
   "metadata": {},
   "outputs": [
    {
     "data": {
      "text/plain": [
       "838"
      ]
     },
     "execution_count": 6,
     "metadata": {},
     "output_type": "execute_result"
    }
   ],
   "source": [
    "len(dataset)"
   ]
  },
  {
   "cell_type": "markdown",
   "metadata": {},
   "source": [
    "## Extract content headers"
   ]
  },
  {
   "cell_type": "code",
   "execution_count": 37,
   "metadata": {},
   "outputs": [],
   "source": [
    "hs = [\"h1\", \"h2\", \"h3\"]\n",
    "\n",
    "for d in dataset:\n",
    "    headers = []\n",
    "    soup = BeautifulSoup(d[\"content_html\"])\n",
    "    for h in hs:\n",
    "        headers += [el.text for el in soup.select(h)]\n",
    "    d[\"headers\"] = headers"
   ]
  },
  {
   "cell_type": "code",
   "execution_count": 40,
   "metadata": {},
   "outputs": [
    {
     "name": "stdout",
     "output_type": "stream",
     "text": [
      "Average number of headers per article: 5.140811455847255\n"
     ]
    }
   ],
   "source": [
    "print(\"Average number of headers per article: {0}\".format(sum([len(d[\"headers\"]) for d in dataset]) / len(dataset)))"
   ]
  },
  {
   "cell_type": "code",
   "execution_count": 77,
   "metadata": {},
   "outputs": [],
   "source": [
    "import re\n",
    "\n",
    "def clean_html(raw_html):\n",
    "    cleanr = re.compile('<.*?>')\n",
    "    cleantext = re.sub(cleanr, '', raw_html)\n",
    "    cleantext = re.sub(\"(<!--.*?-->)\", \"\", cleantext, flags=re.DOTALL)\n",
    "    return cleantext\n",
    "\n",
    "def remove_newlines(content):\n",
    "    return content.replace(\"\\n\", \" \")\n",
    "\n",
    "def remove_white_spaces(content):\n",
    "    content = re.sub(' +', ' ', content)\n",
    "    content = content.strip()\n",
    "    return content\n",
    "\n",
    "def remove_urls(content):\n",
    "    content = re.sub(r'https?:\\/\\/.*[\\r\\n]*', '', content, flags=re.MULTILINE)\n",
    "    content = re.sub(r'http?:\\/\\/.*[\\r\\n]*', '', content, flags=re.MULTILINE)\n",
    "    return content\n",
    "\n",
    "def remove_code(content):\n",
    "    content = re.sub(r'(\\w+(\\.\\w+)*\\([^\\)]*\\))', '', content, flags=re.MULTILINE) # matches a.b.c(d)\n",
    "    return content\n",
    "\n",
    "def clean_content(content):\n",
    "    content = clean_html(content)\n",
    "    content = remove_newlines(content)\n",
    "    content = remove_white_spaces(content)\n",
    "    content = remove_urls(content)\n",
    "    content = remove_code(content)\n",
    "    return content"
   ]
  },
  {
   "cell_type": "code",
   "execution_count": 78,
   "metadata": {},
   "outputs": [
    {
     "name": "stdout",
     "output_type": "stream",
     "text": [
      "How to Take Care of Mini Pet Turtles \t \tCo-authored by \t\twikiHow Staff |35 References Explore this Article Taking Care of Musk Turtles Caring for Mud Turtles Keeping Spotted Turtles Article Summary Questions & Answers Related Articles \t\tThis article was co-authored by our trained team of editors and researchers who validated it for accuracy and comprehensiveness. Together, they cited information from 35 references. wikiHow's Content Management Team carefully monitors the work from our editorial staff to ensure that each article meets our high quality standards. \t\tLearn more... Mini turtles are species that stay small, generally reaching an adult shell length of no more than 6 inches (15 cm). Small turtles are not only cute and fun to watch, but they are usually easier to house and care for than larger species. Proper care depends on the species of mini turtle you choose. Research the needs of some of the popular small turtle breeds—such as musk turtles, mud turtles, and spotted turtles—before you bring one home. (adsbygoogle = window.adsbygoogle || []).; ; ; Steps Method 1 Taking Care of Musk Turtles  ; ; 1 Provide a 20 gallons (76 L) tank for a single turtle. Like most small turtle species, musk turtles are aquatic, meaning they spend almost all their time in the water. Get a tank that will offer your turtle plenty of space to swim and explore its underwater environment.[1] If you want to keep a pair of musk turtles, get a 40 gallons (150 L) tank. Avoid housing 2 males together, as they may become aggressive with each other. If you keep a male and female together, you may need to separate them if the male harasses the female. These turtles typically grow no longer than 4.5 inches (11 cm). The males tend to grow slightly larger than the females. ;  2 Put a submersible filter in the tank. You’ll need a filter to keep your turtle’s water fresh and clean. Look for a filter that is “submersible” or “internal.”[2] If you’re not sure what kind of filter will work best, get advice from a reptile specialist at your pet store or from your exotic pet vet. Turtles produce a lot more waste than fish, so using a filter is important for keeping your turtle’s environment from becoming dirty and foul-smelling.  3 Fill the tank with non-chlorinated water, but keep it shallow. Pour in enough water that your turtle can swim around, but keep it shallow enough that the turtle can stretch up to breathe while its back feet are still on the floor of the tank. That way, your turtle won’t have to tread water constantly to reach the surface.[3] You can buy a water conditioner to neutralize chlorine and other harmful chemicals in your tap water. Check your local pet store or search online for an appropriate conditioner for turtle tanks.  4 Offer a basking spot for your turtles. Musk turtles don’t spend a lot of time out of the water, but they may occasionally want to bask. Provide a small area of the tank where your turtles can crawl completely out of the water if they need to.[4] This could take the form of:[5] A plastic basking platform A large rock that the turtle can climb easily A piece of driftwood A floating turtle dock  5 Give your turtle a UVB basking light and water heater. All turtles need UV light and heat to help them stay warm and properly metabolize essential vitamins and minerals. Get a high-quality UVB reptile clamp lamp and position it directly over your turtle’s basking spot.[6] Look for a heat lamp with a built in thermometer. Ideally, the light should warm the area directly under it to around 90 °F (32 °C), while the rest of the tank should stay around 80 °F (27 °C). Keep the light on for 12 hours during the day, then off for 12 hours during the night. This will help the turtle maintain its natural biological rhythms. You can also keep the turtle’s water warm with a submersible heater. Maintain a water temperature of 72–78 °F (22–26 °C).  6 Decorate the tank with medium-sized gravel if you wish. Musk turtles don’t need a substrate, but adding gravel or a few rocks can make the tank look more attractive.[7] Take care not to put in any rocks that are small enough for the turtle to swallow. Keeping the bottom of your tank bare will make it easier to clean.  7 Feed your turtle a variety of animal foods. Musk turtles are primarily carnivorous. Offer your turtle foods such as earthworms, crickets, bloodworms, snails, and cut up pieces of fish or shrimp. You can also give your musk turtle pellet foods that are specifically formulated for freshwater turtles. Put the food directly into the water with the turtle.[8] Musk turtles younger than 6 months should be fed twice a day. Feed turtles older than 6 months once every other day.[9] Offer only as much food as your turtle can eat in about 10-15 minutes. Clean up any uneaten food right away so that it does not go bad and contaminate the water.[10] Ask your vet to recommend a multi-vitamin supplement for your turtles. Add the supplement to their food once a week. Hatchlings need a daily calcium supplement, while adults should have calcium supplements 3 times a week.[11]  8 Handle your musk turtle cautiously. Musk turtles can bite, and they also tend to release a nasty odor when they’re scared or stressed (hence the name!). If you must handle your turtle, carefully pick it up from the back of the shell. This will make it harder for the turtle to bite you, and may also prevent it from feeling as frightened.[12] Musk turtles have long necks, so take care that your turtle doesn’t stretch around and bite you while you’re trying to pick it up.  { ; });  Method 2 Caring for Mud Turtles  1 Give an adult mud turtle a tank that’s at least 50–100 gallons (190–380 L). Although mud turtles are tiny (with most reaching no more than 4 inches (10 cm) in length), they love having lots of space! While hatchlings can do well in a tank that is only 20 gallons (76 L), you’ll need to upgrade them to a larger space as they get into the juvenile and young adult stages.[13] As a general rule, your aquarium should have 6 inches (15 cm) of floor space for every 1 inch (2.5 cm) of turtle.  2 Provide a canister filter for the tank. Canister filters are ideal for mud turtle habitats because they can filter out lots of waste and don’t disturb the turtles with a lot of vibration.[14] Ask at your local pet store or check with an exotic pet vet to get recommendations for the best kind of canister filter to use. You can also build your own canister filter if you prefer. Search online for tutorials for making DIY turtle tank filters.[15]  3 Offer a large basking area (occupying about 1/3rd of the tank). Make sure your turtles have a relatively large “haul-out” area where they can come out of the water and bask. Mud turtles spend more time on land than some other species of aquatic or semi-aquatic turtles.[16] You can buy or make your turtles a rock-like basking shelf out of plastic or fiberglass, or provide a large rock or piece of wood for them to hang out on. For mud turtles, the tank’s floor area should be about 2/3rds aquatic and 1/3rd basking area.  4 Fill the tank with clean water twice as deep as the turtle’s length. Make sure the water is deep enough so that your turtle can easily dive and swim. Use fresh, unchlorinated water, and change out 1/3rd of the water once a week.[17] Talk to your vet or a reptile specialist at your local pet store about how to achieve the ideal pH and chemical balance for your turtle’s water. Mud turtles like slightly brackish water with a pH of 6.6-7.6.  5 Decorate the bottom of the tank with large river stones if desired. A bare-bottomed tank is easier to clean, but you can decorate your mud turtle’s habitat with some pretty polished cobbles for a more natural and attractive look. Make sure to select stones that are too large for your turtle to swallow.[18] If you choose to add stones, you will need to stir up and agitate the rocks once a week in order to keep debris and dirt from accumulating between them. You will also need to remove all the rocks and disinfect them in a solution of 1 part bleach to 20 parts water once every 2 to 4 weeks.  6 Put a basking light and water heater in the tank. Mud turtles need lots of warmth and light to stay healthy and metabolize the vitamins they need. Place a UVB heat lamp over the turtle’s preferred basking site and maintain a temperature of 85–92 °F (29–33 °C) under the lamp. Use a water heater to keep the water at 74–78 °F (23–26 °C).[19] Your curious mud turtle might try to bite the submerged water heater. Protect the heater and turtles by placing a piece of PVC pipe over the heater. Drill several holes in the pipe to let the heat out. You can use a heat lamp or under-tank heater to warm the terrestrial part of the tank to 78–82 °F (26–28 °C). Make sure to give the turtles a natural light/dark cycle by keeping the basking lamp on for 12 hours at a time and then switching it off for 12 hours during the night.  7 Feed your turtles a variety of animal foods. Mud turtles are carnivores, and they do best with a varied diet. Offer foods such as small to medium-sized feeder fish, snails, insects (such as crickets), and earthworms. Don’t give them more than they can eat within 10-15 minutes.[20] You can also offer your mud turtles freshwater turtle pellets. Hatchlings should be fed twice a day, while adults need to be fed once daily. Add a multi-vitamin supplement to your turtle’s food once a week. Young mud turtles also need a daily calcium supplement, while adults need extra calcium 3 times a week.  8 Avoid handling your mud turtle. Mud turtles are not cuddly pets, so don’t pick them up more often than you need to. If you have to pick up your mud turtle, grasp it at the back of the shell so that it can’t bite you.[21] Like musk turtles, mud turtles have long necks. Take care to keep your hands far enough out of the way that your turtle can’t reach back and nip you.  Method 3 Keeping Spotted Turtles  1 Keep your spotted turtles in a large tank or medium-sized turtle tub. Spotted turtles can get a little larger than other mini turtles, achieving an adult shell length of up to 6 inches (15 cm). They do best in a tank that is at least 55 gallons (210 L) or a medium-sized aquatic turtle tub habitat.[22] Spotted turtles are sociable, so you can keep a group of them together if you wish. For example, you could house up to 4 males and as many as 15 females in a tub that is 5 feet (1.5 m) by 5 feet (1.5 m).  2 Equip the tank or tub with a submersible or canister filter. Use a high-quality turtle tank filter to keep your turtles’ water fresh and clean. This will help prevent your spotted turtles from developing fungal infections and other health problems.[23] Ask your vet or a specialist at the pet store to recommend a filter that will work well with your turtles’ enclosure.  3 Give your  plenty of basking spots. Spotted turtles are prone to fungal infections, so they need to be able to come out of the water and dry off completely from time to time. Offer them at least 2 basking areas (such as large rocks or pieces of wood) where they can climb out and lounge before returning to the water.[24] Take care not to place any pumps or filters in an area where they will splash water up onto the basking .  4 Keep the water no more than 4–6 inches (10–15 cm) deep. Although spotted turtles are aquatic, they are not strong swimmers. Keep their water relatively shallow to prevent drowning. Make sure their water is clean and free of chlorine and other harsh chemicals.[25] In addition to providing easily accessible basking spots, you can also help prevent drowning by giving your turtles artificial plants to cling to.[26]  5 Provide plenty of light and heat. Put a UVB heat lamp over your turtles’ favorite basking spot. The basking spot should be heated to around 82–86 °F (28–30 °C). Use a submersible heater to keep the water temperature at about 75–85 °F (24–29 °C).[27] Don’t allow your turtles’ water to exceed 88 °F (31 °C), or they will go into a dormant state known as aestivation.  6 Place a sand or rock substrate in the habitat. Spotted turtles do well with a little substrate at the bottom of their tanks or enclosures. If you wish, you can use a shallow layer of sand or small to medium-sized rocks.[28] Be sure to agitate the substrate once a week to stir up loose dirt, and change out or disinfect your substrate during regular tank cleanings. If you use rocks, select stones that are too large for your turtles to swallow.  7 Give your turtles an array of animal-based foods. Like most mini turtles, spotted turtles are carnivorous. Offer them foods such as crickets, earthworms, mealworms, pieces of chicken, crab, or tadpoles. You can also offer them freshwater turtle pellets.[29] Some spotted turtles will eat small amounts of leafy greens, such as romaine lettuce.[30] Hatchlings and younger spotted turtles should be fed several small meals throughout the day, while adults should be fed once every other day. Don’t feed them more than they can eat in 15-20 minutes.[31]  8 Handle your spotted turtle sparingly. Spotted turtles become stressed out when you handle them a lot, so try not to pick them up more often than you have to. If you do need to hold a spotted turtle, do so for no more than 20 minutes at a time, 3 or 4 times a week.[32] To avoid bites and minimize stress on your turtle, grab your turtle with both hands near the back of the shell. Community Q&A Search Add New Question Question How do I get the turtle out of it's shell? Community Answer The shell is biologically attached to the turtle and is a part of its body. DO NOT attempt to remove the turtle from it's shell, as it can kill the turtle. If you just mean that you want it to poke it's head out and be social, then you need to provide a comfortable environment. Turtles hide in their shells when they sense danger, so be patient, leave food out and let it come out on it's own. Thanks! Yes No Not Helpful 1 Helpful 17 Question What type of turtles stay under 5 inches? Community Answer Here are some suggestions: Mud Turtles are a common type of turtle usually grows to be about 4 to 5 inches long. Musk Turtles grow to about 3 to 4 inches. Musk turtles make great pets and are good for owners new to raising turtles. Spotted Turtles reach size of 3.5 to 5 inches. 55-gallon tank and ideal environments are 50% water and 50% land and basking log. Diamond Back Terrapins are probably not the best for inexperienced owners because they have fungal infections and carapace diseases so they require a bit more care. They need a larger tank ~70 gallons. Reeve’s Turtles (males) -- you have to check their shell often as this type of turtle has many shell diseases. Up to 5 inches. Thanks! Yes No Not Helpful 1 Helpful 7 Question Are mini turtles expensive? Community Answer It depends, really. The price will be determined by the size of your turtle, where you purchase it, what kinds of materials you buy, etc. Mini turtles can either be a cheap or expensive pet. Thanks! Yes No Not Helpful 3 Helpful 7 Question How often does the turtle need to be fed? Community Answer Small young turtles should be fed daily, average sized turtles you should feed three times a week, and adult turtles should be fed one or two times a week. However, this depends on the species, so always read the specifics for your turtle rather than relying on such generalized advice. Thanks! Yes No Not Helpful 5 Helpful 9 Question Do they suffer as pets? Community Answer It depends on how you treat them. If you give them proper care, food, love, etc., I don't think they suffer at all. Thanks! Yes No Not Helpful 0 Helpful 2 Question Do mini turtles need a heating lamp? Brittney.B Community Answer All reptiles and turtles need a heating lamp. Thanks! Yes No Not Helpful 3 Helpful 6 Question How big do mini turtles grow? Birds101 Community Answer The species is key. Red eared sliders can get about 12 inches or so, while others such as Mississippi Map turtles only reach 5-10. Thanks! Yes No Not Helpful 3 Helpful 5 Question How should I fill the tank if I have a baby paint turtle? Community Answer As full as you can while still providing a place for the turtle to get out of the water. Do not fill it completely to the top, of course. Thanks! Yes No Not Helpful 3 Helpful 3 Question How big does a shortneck turtle get? Community Answer This turtle can grow to about 30 cm in length. The male has a much fatter and longer tail than the female as well. Thanks! Yes No Not Helpful 2 Helpful 1 Question Is it safe to paint a turtle's shell? FutureHerpetologist Community Answer Absolutely not. Paint can restrict the oxygen flow through the shell and kill the turtle. If you are caught painting a wild turtle's shell, you can be fined. Thanks! Yes No Not Helpful 0 Helpful 0 Show more answers Ask a Question 200 characters left Include your email address to get a message when this question is answered. Submit \t\t\t\t&lt;li class=&quot;qa_sq&quot; data-sqid=&quot;{{id}}&quot;&gt; \t&lt;div class=&quot;qa_divider&quot;&gt;&lt;/div&gt; \t&lt;div class=&quot;qa_li_container&quot;&gt; \t\t&lt;div class=&quot;qa_bullet&quot;&gt;&lt;/div&gt; \t\t&lt;div class=&quot;qa_sq_question&quot;&gt; \t\t\t&lt;div class=&quot;qa_q_txt&quot;&gt;{{{text}}}&lt;/div&gt; \t\t\t&lt;div class=&quot;qa_editor_tools&quot;&gt; \t\t\t\t&lt;a class=&quot;qa_edit_submitted {{#qa_desktop}}button secondary{{/qa_desktop}}&quot;&gt;{{qa_curate}}&lt;/a&gt; \t\t\t\t{{^mobile_anon_user}} \t\t\t\t&lt;a class=&quot;qa_flag_submitted&quot; data-type=&quot;sq_flag&quot;&gt;{{qa_flag}}&lt;/a&gt; \t\t\t\t&lt;a class=&quot;qa_ignore_submitted&quot; data-type=&quot;sq_ignore&quot;&gt;{{qa_ignore}}&lt;/a&gt; \t\t\t\t{{/mobile_anon_user}} \t\t\t&lt;/div&gt; \t\t&lt;/div&gt; \t&lt;/div&gt; &lt;/li&gt; \t\t\t \t\t\t\t&lt;div class=&quot;qa_answer_confirmation&quot;&gt; \t&lt;span class=&quot;x_button&quot;&gt;&lt;/span&gt; \t&lt;div class=&quot;qa_answer_confirmation_response&quot;&gt; \t\t&lt;span class=&quot;qa_checkmark&quot;&gt;&lt;/span&gt; \t\t&lt;div class=&quot;qa_social_login_heading standalone&quot;&gt;{{qa_proposed_answer_confirmation}}&lt;/div&gt; \t&lt;/div&gt; &lt;/div&gt; \t\t\t \t\t\t\t&lt;div class=&quot;qa_aq_edit_form&quot;&gt; \t&lt;div class=&quot;qa_aq_edit_form_status&quot;&gt;&lt;/div&gt; \t&lt;textarea class=&quot;qa_cq_text&quot; spellcheck=&quot;true&quot; placeholder=&quot;{{qa_edit_form_question_placeholder}}&quot;&gt;{{qa_edit_form_question}}&lt;/textarea&gt; \t&lt;div class=&quot;qa_invalid_msg qa_cq_text_error qap_char_limit&quot;&gt;{{qa_cq_text_error}}&lt;/div&gt; \t&lt;textarea class=&quot;qa_ca_text&quot; spellcheck=&quot;true&quot; placeholder=&quot;{{qa_edit_form_answer_placeholder}}&quot;&gt;{{qa_edit_form_answer}}&lt;/textarea&gt; \t&lt;div class=&quot;qa_invalid_msg qa_ca_text_error qap_char_limit&quot;&gt;{{qa_ca_text_error}}&lt;/div&gt; \t&lt;div class=&quot;qa_invalid_msg qa_ca_text_error2 qap_char_limit&quot;&gt;{{qa_ca_text_min}}&lt;/div&gt; \t&lt;div class=&quot;qa_invalid_msg qa_ca_text_error3 qap_char_limit&quot;&gt;{{qa_ca_error_url}}&lt;/div&gt; \t&lt;div class=&quot;qa_invalid_msg qa_ca_text_error_phone qap_char_limit&quot;&gt;{{qa_ca_error_phone}}&lt;/div&gt; \t&lt;input class=&quot;qa_pa_email&quot; placeholder=&quot;{{qa_pa_email_placeholder}}&quot;/&gt; \t{{#qa_admin}} \t\t&lt;span class=&quot;qa_edit_form_verifier_container&quot;&gt; \t\t\t{{qa_edit_form_verifier_label}} \t\t\t&lt;select class=&quot;qa_edit_form_verifier&quot;&gt; \t\t\t\t{{#qa_edit_form_verifiers}} \t\t\t\t\t&lt;option value=&quot;{{id}}&quot; {{selected}}&gt;{{name}}&lt;/option&gt; \t\t\t\t{{/qa_edit_form_verifiers}} \t\t\t&lt;/select&gt; \t\t&lt;/span&gt; \t\t{{#qa_edit_form_show_remove_submitter}} \t\t&lt;span class=&quot;qa_edit_form_remove_submitter_container&quot;&gt; \t\t\t&lt;label for=&quot;qa_aq_remove_submitter&quot;&gt;{{qa_edit_form_remove_submitter}}&lt;/label&gt; &lt;input type=&quot;checkbox&quot; id=&quot;qa_aq_remove_submitter&quot; class=&quot;qa_checkbox&quot; /&gt; \t\t&lt;/span&gt; \t\t{{/qa_edit_form_show_remove_submitter}} \t{{/qa_admin}} \t&lt;span class=&quot;qa_edit_form_inactive_container&quot;&gt; \t\t&lt;label for=&quot;qa_aq_inactive&quot;&gt;{{qa_edit_form_inactive}}&lt;/label&gt; &lt;input type=&quot;checkbox&quot; id=&quot;qa_aq_inactive&quot; class=&quot;qa_checkbox&quot; {{qa_edit_form_inactive_val}}&gt; \t&lt;/span&gt; \t&lt;div class=&quot;clearall&quot;&gt;&lt;/div&gt; \t{{#qa_admin}}&lt;a class=&quot;qa_aq_delete button primary&quot;&gt;{{qa_edit_form_delete}}&lt;/a&gt;{{/qa_admin}} \t&lt;a class=&quot;qa_aq_submit button primary&quot;&gt;{{qa_edit_form_submit}}&lt;/a&gt; \t&lt;span class=&quot;qa_spinner&quot;&gt;&lt;/span&gt; \t&lt;a class=&quot;qa_aq_cancel button secondary&quot;&gt;{{qa_edit_form_cancel}}&lt;/a&gt; &lt;/div&gt; \t\t\t \t\t\t\t&lt;div class=&quot;qa_social_login_form&quot;&gt; \t&lt;span class=&quot;x_button&quot;&gt;&lt;/span&gt; \t&lt;div&gt; \t\t&lt;span class=&quot;qa_checkmark&quot;&gt;&lt;/span&gt; \t\t&lt;div class=&quot;qa_social_login_heading&quot;&gt;{{qa_thanks_for_answer}}&lt;/div&gt; \t&lt;/div&gt; \t&lt;div style=&quot;clear: both;&quot;&gt;&lt;/div&gt; \t&lt;div class=&quot;qa_social_login_body&quot;&gt;{{qa_social_login_form_cta}}&lt;/div&gt; \t&lt;div class=&quot;qa_social_login_button_container&quot;&gt; \t\t&lt;div class=&quot;qa_button social_login_button facebook_button&quot;&gt; \t\t\t&lt;span class=&quot;social_login_button_icon&quot;&gt;&lt;/span&gt; \t\t\t&lt;span class=&quot;social_login_button_text&quot;&gt;Facebook&lt;/span&gt; \t\t&lt;/div&gt; \t\t&lt;div class=&quot;qa_button social_login_button google_button&quot;&gt; \t\t\t&lt;span class=&quot;social_login_button_icon&quot;&gt;&lt;/span&gt; \t\t\t&lt;span class=&quot;social_login_button_text&quot;&gt;Google&lt;/span&gt; \t\t&lt;/div&gt; \t&lt;/div&gt; \t&lt;div class=&quot;qa_social_login_sub&quot;&gt;{{qa_social_login_disclaimer}}&lt;/div&gt; &lt;/div&gt; \t\t\t \t\t\t\t&lt;div class=&quot;qa_social_login_confirmation&quot;&gt; \t&lt;span class=&quot;x_button&quot;&gt;&lt;/span&gt; \t&lt;div&gt; \t\t&lt;img src=&quot;{{avatarUrl}}&quot; class=&quot;qa_social_login_avatar&quot; alt=&quot;user avatar&quot;&gt; \t\t&lt;div class=&quot;qa_social_login_heading&quot;&gt;{{qa_thanks_for_social_login}}&lt;/div&gt; \t&lt;/div&gt; \t&lt;div style=&quot;clear: both;&quot;&gt;&lt;/div&gt; \t&lt;div class=&quot;qa_social_login_body&quot;&gt;{{qa_info_after_social_login}}&lt;/div&gt; \t&lt;a class=&quot;qa_social_login_done button primary&quot;&gt;Done&lt;/a&gt; &lt;/div&gt; \t\t\t Already answered Not a question Bad question Other \t\t\t&lt;li class=&quot;qa_aq qa_block {{#inactive}}qa_inactive{{/inactive}}&quot; data-aqid=&quot;{{id}}&quot; data-cqid=&quot;{{curatedQuestion.id}}&quot; data-caid=&quot;{{curatedQuestion.curatedAnswer.id}}&quot; data-sqid=&quot;{{curatedQuestion.submittedId}}&quot; data-qa_inactive=&quot;{{inactive}}&quot; data-votes_up=&quot;{{votesUp}}&quot; data-votes_down=&quot;{{votesDown}}&quot; data-verifier_id=&quot;{{verifierId}}&quot; data-submitter_id=&quot;{{submitterUserId}}&quot;&gt; \t&lt;div class=&quot;qa_divider&quot;&gt;&lt;/div&gt; \t&lt;div class=&quot;qa_li_container&quot;&gt; \t\t&lt;div class=&quot;qa_question_tab&quot;&gt;{{qa_question_label}}&lt;/div&gt; \t\t&lt;div class=&quot;qa_q_txt{{#qa_desktop}} question{{/qa_desktop}}&quot;&gt;{{{curatedQuestion.text}}}&lt;/div&gt; \t\t{{#qa_staff}}&lt;div class=&quot;qa_staff_info&quot;&gt;{{staffInfo}}&lt;/div&gt;{{/qa_staff}} \t\t{{#show_editor_tools}} \t\t&lt;div class=&quot;qa_editor_tools&quot;&gt; \t\t\t&lt;a class=&quot;qa_edit_aq&quot;&gt;{{qa_edit}}&lt;/a&gt; \t\t&lt;/div&gt; \t\t{{/show_editor_tools}} \t\t&lt;div class=&quot;qa_answers&quot;&gt; \t\t\t&lt;div class=&quot;{{qa_answerer_class}}&quot;&gt; \t\t\t{{#qa_desktop}} \t\t\t\t&lt;div class=&quot;qa_user_hover hint_box&quot;&gt;{{#verifierId}}{{&gt; qa_expert_hover}}{{/verifierId}}&lt;/div&gt; \t\t\t{{/qa_desktop}} \t\t\t\t&lt;div class=&quot;qa_badge&quot;&gt;&lt;/div&gt; \t\t\t{{#verifierId}} \t\t\t\t&lt;a href=&quot;{{#formatName}}{{verifierData.name}}{{/formatName}}&quot; class=&quot;sp_namelink qa_person_circle&quot; target=&quot;_blank&quot; {{#verifierData.imagePath}}style=&quot;background-image: &quot;{{/verifierData.imagePath}}&gt; \t\t\t\t\t{{^verifierData.imagePath}}&lt;span&gt;{{verifierData.initials}}&lt;/span&gt;{{/verifierData.imagePath}}&lt;/a&gt; \t\t\t{{/verifierId}} \t\t\t{{^verifierId}} \t\t\t\t&lt;div class=&quot;qa_person_circle&quot; {{#submitterAvatar}}style=&quot;background-image:&quot;{{/submitterAvatar}}&gt;&lt;/div&gt; \t\t\t{{/verifierId}} \t\t\t\t&lt;div class=&quot;qa_answerer_info&quot;&gt; \t\t\t\t{{#verifierId}} \t\t\t\t\t&lt;div class=&quot;qa_user_name&quot;&gt; \t\t\t\t\t\t&lt;a href=&quot;{{#formatName}}{{verifierData.name}}{{/formatName}}&quot; target=&quot;_blank&quot;&gt;{{verifierData.name}}&lt;/a&gt; \t\t\t\t\t&lt;/div&gt; \t\t\t\t\t&lt;div class=&quot;qa_user_title&quot;&gt;{{{verifierData.blurb}}}&lt;/div&gt; \t\t\t\t{{/verifierId}} \t\t\t\t{{^verifierId}} \t\t\t\t\t&lt;div class=&quot;qa_user_name&quot;&gt;{{{submitterDisplayName}}}&lt;/div&gt; \t\t\t\t{{/verifierId}} \t\t\t\t\t&lt;div class=&quot;qa_user_label&quot;&gt;{{qa_answerer_label}}&lt;/div&gt; \t\t\t\t\t{{#isTopAnswerer}}{{^qa_desktop}}&lt;div class=&quot;qa_ta_mobile_extra&quot;&gt;&lt;/div&gt;{{/qa_desktop}}{{/isTopAnswerer}} \t\t\t\t&lt;/div&gt; \t\t\t&lt;/div&gt; \t\t{{#qa_desktop}} \t\t\t&lt;div class=&quot;qa_answer answer&quot;&gt;{{{curatedQuestion.curatedAnswer.text}}}&lt;/div&gt; \t\t\t&lt;div class=&quot;qa_answer_footer&quot;&gt; \t\t\t\t{{&gt; thumbs_qa_widget}} \t\t\t\t{{^qa_anon}} \t\t\t\t&lt;a class=&quot;qa_ignore_answered&quot; href=&quot;#&quot;&gt;{{qa_flag_duplicate}}&lt;/a&gt; \t\t\t\t&lt;p class=&quot;qa_ignore_answered_thanks&quot;&gt;Thanks!&lt;/p&gt; \t\t\t\t{{/qa_anon}} \t\t\t&lt;/div&gt; \t\t{{/qa_desktop}} \t\t{{^qa_desktop}} \t\t&lt;ul&gt; \t\t\t&lt;li class=&quot;qa_answer&quot;&gt;{{{curatedQuestion.curatedAnswer.text}}}&lt;/li&gt; \t\t&lt;/ul&gt; \t\t{{&gt; thumbs_up_down}} \t\t{{/qa_desktop}} \t\t&lt;/div&gt; \t&lt;/div&gt; &lt;/li&gt; \t\t \t\t\t\t&lt;div class=&quot;wh_vote_container qa_vote_buttons&quot;&gt; \t&lt;span class='wh_thumb_response wh_thumb_msg'&gt;{{thumbs_response}}&lt;/span&gt; \t&lt;div class=&quot;qa_widget_vote_links&quot;&gt; \t\t&lt;a href=&quot;#&quot; class=&quot;wh_vote_up wh_vote_box button secondary&quot;&gt;{{qa_thumbs_yes}}&lt;/a&gt; \t\t&lt;a href=&quot;#&quot; class=&quot;wh_vote_down wh_vote_box button secondary&quot;&gt;{{qa_thumbs_no}}&lt;/a&gt; \t&lt;/div&gt; \t&lt;div class=&quot;qa_widget_vote_buttons&quot;&gt; \t\t&lt;a href=&quot;#&quot; class=&quot;wh_vote_down wh_vote_box&quot;&gt;{{qa_thumbs_nohelp}} &lt;span&gt;{{votesDown}}&lt;/span&gt;&lt;/a&gt; \t\t&lt;a href=&quot;#&quot; class=&quot;wh_vote_up wh_vote_box&quot;&gt;{{qa_thumbs_help}} &lt;span&gt;{{votesUp}}&lt;/span&gt;&lt;/a&gt; \t&lt;/div&gt; &lt;/div&gt; \t\t\t \t\t\t\t&lt;div class=&quot;qa_person_circle&quot; {{#ta_image}}style=&quot;background-image:&quot;{{/ta_image}}&gt;&lt;/div&gt; &lt;div class='qa_ta_name'&gt; \t&lt;span&gt;&lt;a href=&quot;{{userLink}}&quot; class=&quot;sp_namelink&quot; target=&quot;_blank&quot;&gt;{{userName}}&lt;/a&gt;, {{ta_label}}&lt;/span&gt;&lt;br /&gt; \t{{answersCount}} {{ta_answers_label}} &lt;/div&gt; &lt;div class=&quot;qa_ta_cats&quot;&gt; {{#topCats.0}} \t{{ta_subcats_intro}} \t{{#topCats}}&lt;a href=&quot;{{cat_link}}&quot;&gt;{{cat}}&lt;/a&gt;, {{/topCats}} \t{{ta_subcats_outro}} {{/topCats.0}} &lt;/div&gt; \t\t\t Video . By using this service, some information may be shared with YouTube. Tips Other popular small turtle species include Reeve’s turtles, map turtles, and box turtles. No 2 species have the same needs, so research the best way to care for whatever type of turtle you choose. Whatever kind of mini turtle you keep, you will need to clean its habitat regularly. Wash your turtle’s tank and any items in the tank thoroughly every 2-4 weeks. Many turtle species can live long lives, with some reaching lifespans of 50 years or even up to 100 or more. If you buy a turtle, plan on caring for your companion for many years or decades. Always purchase turtles from reputable breeders rather than buying turtles that were captured from the wild. Removing turtles from their natural habitat is destructive to the ecosystem and can be traumatic or even deadly to the turtle.[33] Warnings In the U.S., it’s illegal to sell a turtle with a shell that’s less than 4 inches (10 cm) long. This is because small turtles are more likely to carry salmonella than their larger counterparts.[34] If you do buy or adopt a tiny turtle, always wash your hands thoroughly with warm water and antibacterial soap after touching the turtle or objects in its habitat. Quarantine new turtles away from any other turtles you may have for at least 60-90 days to ensure that they don’t have any infectious diseases or other health problems.[35] EditRelated wikiHows  How toLook After a Turtle  How toCare for a Tortoise  How toTake Care of a Baby Tortoise  How toPet a Turtle  How toKeep Your Turtle Happy  How toCare for a Red Eared Slider Turtle  How toPut a Sucker Fish in a Tank With a Turtle  How toTake Care of Baby Water Turtles  How toBathe a Turtle  How toCare for Turtles  How toBathe a Tortoise  How toLook After Terrapins References ↑ \n"
     ]
    }
   ],
   "source": [
    "print(clean_content(dataset[643][\"content\"]))"
   ]
  },
  {
   "cell_type": "code",
   "execution_count": null,
   "metadata": {},
   "outputs": [],
   "source": []
  }
 ],
 "metadata": {
  "kernelspec": {
   "display_name": "Python 3",
   "language": "python",
   "name": "python3"
  },
  "language_info": {
   "codemirror_mode": {
    "name": "ipython",
    "version": 3
   },
   "file_extension": ".py",
   "mimetype": "text/x-python",
   "name": "python",
   "nbconvert_exporter": "python",
   "pygments_lexer": "ipython3",
   "version": "3.5.6"
  }
 },
 "nbformat": 4,
 "nbformat_minor": 2
}
