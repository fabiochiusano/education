{
 "cells": [
  {
   "cell_type": "markdown",
   "metadata": {},
   "source": [
    "# Preprocessed data reader"
   ]
  },
  {
   "cell_type": "code",
   "execution_count": 5,
   "metadata": {},
   "outputs": [],
   "source": [
    "import nbimporter\n",
    "from utils_os import UtilsOS\n",
    "from utils_os import FileType\n",
    "import pandas as pd"
   ]
  },
  {
   "cell_type": "code",
   "execution_count": 4,
   "metadata": {},
   "outputs": [],
   "source": [
    "class ReaderPreprocessedData:\n",
    "    def read_data(path_to_preprocessed):\n",
    "        \"\"\"Reads preprocessed data from \"\"\"\n",
    "        dataset = []\n",
    "        onlyfiles = UtilsOS.directory_get(path_to_preprocessed, FileType.FILE)\n",
    "        for file in onlyfiles:\n",
    "            filename = path_to_preprocessed + \"/{0}\".format(file)\n",
    "            d = UtilsOS.read_json(filename)\n",
    "            d[\"tfidf\"] = pd.DataFrame(d[\"tfidf\"])\n",
    "            dataset.append(d)\n",
    "        return dataset"
   ]
  }
 ],
 "metadata": {
  "kernelspec": {
   "display_name": "Python 3",
   "language": "python",
   "name": "python3"
  },
  "language_info": {
   "codemirror_mode": {
    "name": "ipython",
    "version": 3
   },
   "file_extension": ".py",
   "mimetype": "text/x-python",
   "name": "python",
   "nbconvert_exporter": "python",
   "pygments_lexer": "ipython3",
   "version": "3.5.6"
  }
 },
 "nbformat": 4,
 "nbformat_minor": 2
}
