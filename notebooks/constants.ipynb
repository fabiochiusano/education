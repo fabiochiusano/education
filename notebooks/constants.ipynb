{
 "cells": [
  {
   "cell_type": "markdown",
   "metadata": {},
   "source": [
    "# Constants"
   ]
  },
  {
   "cell_type": "code",
   "execution_count": null,
   "metadata": {},
   "outputs": [],
   "source": [
    "class Constants:\n",
    "    path_to_articles = \"../articles\"\n",
    "    path_to_preprocessed = \"../preprocessed\"\n",
    "    \n",
    "    path_to_scraper_config = \"json/scraper_configs.json\"\n",
    "    path_to_stem_dictionary = \"json/stem_dictionary.json\"\n",
    "    path_to_wiki_tfidf = \"../resources/wiki-30k-10-IDF.csv\"\n",
    "    path_to_url_not_article = \"json/url_not_article.json\""
   ]
  }
 ],
 "metadata": {
  "kernelspec": {
   "display_name": "Python 3",
   "language": "python",
   "name": "python3"
  },
  "language_info": {
   "codemirror_mode": {
    "name": "ipython",
    "version": 3
   },
   "file_extension": ".py",
   "mimetype": "text/x-python",
   "name": "python",
   "nbconvert_exporter": "python",
   "pygments_lexer": "ipython3",
   "version": "3.5.6"
  }
 },
 "nbformat": 4,
 "nbformat_minor": 2
}
