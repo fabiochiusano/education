{
 "cells": [
  {
   "cell_type": "code",
   "execution_count": 1,
   "metadata": {},
   "outputs": [
    {
     "name": "stderr",
     "output_type": "stream",
     "text": [
      "WARNING: Logging before flag parsing goes to stderr.\n",
      "W0430 12:47:34.401422 4616676800 __init__.py:56] Some hub symbols are not available because TensorFlow version is less than 1.14\n"
     ]
    },
    {
     "name": "stdout",
     "output_type": "stream",
     "text": [
      "Requirement already satisfied: en_core_web_md==2.0.0 from https://github.com/explosion/spacy-models/releases/download/en_core_web_md-2.0.0/en_core_web_md-2.0.0.tar.gz#egg=en_core_web_md==2.0.0 in /anaconda3/envs/education/lib/python3.5/site-packages (2.0.0)\n",
      "\n",
      "\u001b[93m    Linking successful\u001b[0m\n",
      "    /anaconda3/envs/education/lib/python3.5/site-packages/en_core_web_md -->\n",
      "    /anaconda3/envs/education/lib/python3.5/site-packages/spacy/data/en_core_web_md\n",
      "\n",
      "    You can now load the model via spacy.load('en_core_web_md')\n",
      "\n"
     ]
    }
   ],
   "source": [
    "import os\n",
    "import numpy as np\n",
    "import pandas as pd\n",
    "import tensorflow as tf\n",
    "import tensorflow_hub as hub\n",
    "from sklearn import preprocessing\n",
    "\n",
    "#!python -m spacy download en_core_web_md #you will need to install this on first load\n",
    "#import spacy\n",
    "#from spacy.lang.en import English\n",
    "#from spacy import displacy\n",
    "#nlp = spacy.load('en_core_web_md')\n",
    "from IPython.display import HTML\n",
    "\n",
    "import logging\n",
    "logging.getLogger('tensorflow').disabled = True #OPTIONAL - to disable outputs from Tensorflow"
   ]
  },
  {
   "cell_type": "code",
   "execution_count": null,
   "metadata": {},
   "outputs": [],
   "source": [
    "def load_bert():\n",
    "    url = \"https://tfhub.dev/google/elmo/2\"\n",
    "    return hub.Module(url)"
   ]
  },
  {
   "cell_type": "code",
   "execution_count": null,
   "metadata": {},
   "outputs": [],
   "source": [
    "def from_texts_to_vectors(texts, bert):\n",
    "    embeddings = bert(\n",
    "        texts,\n",
    "        signature=\"default\",\n",
    "        as_dict=True)[\"default\"]\n",
    "    \n",
    "    with tf.Session() as sess:\n",
    "        sess.run(tf.global_variables_initializer())\n",
    "        sess.run(tf.tables_initializer())\n",
    "        x = sess.run(embeddings)\n",
    "        \n",
    "    return x # array with length len(texts), where each element is an array with lenght 1024"
   ]
  },
  {
   "cell_type": "code",
   "execution_count": null,
   "metadata": {},
   "outputs": [],
   "source": [
    "from sklearn.decomposition import PCA\n",
    "from sklearn.manifold import TSNE\n",
    "\n",
    "def to_tsne(x):\n",
    "    \"\"\"From 1024 to 50 with PCA, from 50 to 2 with TSNE\"\"\"\n",
    "    y = PCA(n_components=50).fit_transform(x)\n",
    "    y = TSNE(n_components=2).fit_transform(y)\n",
    "    return y"
   ]
  },
  {
   "cell_type": "code",
   "execution_count": 31,
   "metadata": {},
   "outputs": [
    {
     "data": {
      "text/html": [
       "        <script type=\"text/javascript\">\n",
       "        window.PlotlyConfig = {MathJaxConfig: 'local'};\n",
       "        if (window.MathJax) {MathJax.Hub.Config({SVG: {font: \"STIX-Web\"}});}\n",
       "        if (typeof require !== 'undefined') {\n",
       "        require.undef(\"plotly\");\n",
       "        requirejs.config({\n",
       "            paths: {\n",
       "                'plotly': ['https://cdn.plot.ly/plotly-latest.min']\n",
       "            }\n",
       "        });\n",
       "        require(['plotly'], function(Plotly) {\n",
       "            window._Plotly = Plotly;\n",
       "        });\n",
       "        }\n",
       "        </script>\n",
       "        "
      ]
     },
     "metadata": {},
     "output_type": "display_data"
    }
   ],
   "source": [
    "import plotly.plotly as py\n",
    "import plotly.graph_objs as go\n",
    "from plotly.offline import download_plotlyjs, init_notebook_mode, plot, iplot\n",
    "init_notebook_mode(connected=True)\n",
    "\n",
    "def scatter_plot(y):\n",
    "    \"\"\"Scatter plot of sentences by their 2 dimensions\"\"\"\n",
    "    data = [\n",
    "        go.Scatter(\n",
    "            x=[i[0] for i in y],\n",
    "            y=[i[1] for i in y],\n",
    "            mode='markers',\n",
    "            text=[i for i in sentences],\n",
    "        marker=dict(\n",
    "            size=16,\n",
    "            color = [len(i) for i in sentences], #set color equal to a variable\n",
    "            opacity= 0.8,\n",
    "            colorscale='Viridis',\n",
    "            showscale=False\n",
    "        )\n",
    "        )\n",
    "    ]\n",
    "    layout = go.Layout()\n",
    "    layout = dict(\n",
    "                  yaxis = dict(zeroline = False),\n",
    "                  xaxis = dict(zeroline = False)\n",
    "                 )\n",
    "    fig = go.Figure(data=data, layout=layout)\n",
    "    file = plot(fig, filename='Sentence encode.html') "
   ]
  },
  {
   "cell_type": "code",
   "execution_count": null,
   "metadata": {},
   "outputs": [],
   "source": [
    "from sklearn.metrics.pairwise import cosine_similarity\n",
    "\n",
    "def get_n_most_similar_to_search(search_string, dataset, n, bert):\n",
    "    \"\"\"dataset should be a list of lists long 1024\"\"\"\n",
    "    search_vect = from_texts_to_vectors([search_string], bert)\n",
    "    cosine_similarities = pd.Series(cosine_similarity(search_vect, dataset).flatten())\n",
    "    return cosine_similarities.nlargest(n)"
   ]
  },
  {
   "cell_type": "code",
   "execution_count": 29,
   "metadata": {},
   "outputs": [
    {
     "data": {
      "text/html": [
       "<h3>Results:</h3><p style=\"font-family:verdana; font-size:110%;\">  asos employees asos brands manufacturing workers asos brands suppliers asos brands factories tiers 1-3 of asos supplier factories are located in bulgaria, china, india, romania, turkey, mauritius and uk over asos modern slavery statement september 2016 - march 2018</p><hr><p style=\"font-family:verdana; font-size:110%;\">  https://www.asosplc.com/~/media/files/a/asos-v2/documents/corporate-responsiblity/letter-to-the-mauritian-labour-minister.pdf http://parlinfo.aph.gov.au/parlinfo/download/committees/reportjnt/024102/toc_pdf/hiddeninplainsight.pdf;filetype=application%2fpdf progress report on commitments 2016-2017 n ot started behind in progress com pleted publish our factory list on asos corporate website by 31st march 2017.</p><hr><p style=\"font-family:verdana; font-size:110%;\">  speak- ers included representatives from the mauritian and bangladeshi governments, the ilo, iom, industriall union, the ethical trading initiative (eti) and anti-slavery international.</p><hr>"
      ],
      "text/plain": [
       "<IPython.core.display.HTML object>"
      ]
     },
     "metadata": {},
     "output_type": "display_data"
    }
   ],
   "source": [
    "# Sementic search\n",
    "\n",
    "# Enter a set of words to find matching sentences.\n",
    "# 'results_returned' can beused to modify the number of matching sentences retured.\n",
    "search_string = \"america usa\"\n",
    "results_returned = \"3\"\n",
    "\n",
    "\n",
    "\n",
    "# transform search string to a 1024 dimensional vector\n",
    "embeddings2 = embed(\n",
    "    [search_string],\n",
    "    signature=\"default\",\n",
    "    as_dict=True)[\"default\"]\n",
    "with tf.Session() as sess:\n",
    "    sess.run(tf.global_variables_initializer())\n",
    "    sess.run(tf.tables_initializer())\n",
    "    search_vect = sess.run(embeddings2)\n",
    "\n",
    "    \n",
    "cosine_similarities = pd.Series(cosine_similarity(search_vect, x).flatten())\n",
    "output = \"\"\n",
    "for i,j in cosine_similarities.nlargest(int(results_returned)).iteritems():\n",
    "    output +='<p style=\"font-family:verdana; font-size:110%;\"> '\n",
    "    for i in sentences[i].split():\n",
    "        if i.lower() in search_string:\n",
    "           output += \" <b>\"+str(i)+\"</b>\"\n",
    "        else:\n",
    "           output += \" \"+str(i)\n",
    "    output += \"</p><hr>\"\n",
    "    \n",
    "output = '<h3>Results:</h3>' + output\n",
    "display(HTML(output))"
   ]
  },
  {
   "cell_type": "code",
   "execution_count": null,
   "metadata": {},
   "outputs": [],
   "source": []
  },
  {
   "cell_type": "code",
   "execution_count": null,
   "metadata": {},
   "outputs": [],
   "source": [
    "bert = load_bert()\n"
   ]
  }
 ],
 "metadata": {
  "kernelspec": {
   "display_name": "Python 3",
   "language": "python",
   "name": "python3"
  },
  "language_info": {
   "codemirror_mode": {
    "name": "ipython",
    "version": 3
   },
   "file_extension": ".py",
   "mimetype": "text/x-python",
   "name": "python",
   "nbconvert_exporter": "python",
   "pygments_lexer": "ipython3",
   "version": "3.5.6"
  }
 },
 "nbformat": 4,
 "nbformat_minor": 2
}
