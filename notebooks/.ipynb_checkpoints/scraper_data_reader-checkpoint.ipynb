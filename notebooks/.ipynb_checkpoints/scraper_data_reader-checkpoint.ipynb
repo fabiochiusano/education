{
 "cells": [
  {
   "cell_type": "markdown",
   "metadata": {},
   "source": [
    "# Scraped data reader"
   ]
  },
  {
   "cell_type": "code",
   "execution_count": 1,
   "metadata": {},
   "outputs": [
    {
     "name": "stdout",
     "output_type": "stream",
     "text": [
      "Importing Jupyter notebook from utils_os.ipynb\n",
      "Importing Jupyter notebook from scraper_config_reader.ipynb\n"
     ]
    }
   ],
   "source": [
    "import nbimporter\n",
    "from utils_os import UtilsOS\n",
    "from utils_os import FileType\n",
    "from scraper_config_reader import ScraperConfigReader\n",
    "import random\n",
    "from flatten_dict import flatten"
   ]
  },
  {
   "cell_type": "code",
   "execution_count": 6,
   "metadata": {},
   "outputs": [],
   "source": [
    "class ReaderScrapedData:\n",
    "    def read_data(path_to_scraper_config, path_to_articles):\n",
    "        \"\"\"Returns a dictionary of the form data[website][domain] = [json, ...]\"\"\"\n",
    "        configs = ScraperConfigReader.get_configs(path_to_scraper_config)\n",
    "        websites = list(configs.keys())\n",
    "        \n",
    "        data = {}\n",
    "        for website in websites:\n",
    "            if UtilsOS.directory_exists(path_to_articles + \"/\" + website):\n",
    "                data[website] = ReaderScrapedData.read_data_of_website(website, path_to_articles)\n",
    "        \n",
    "        return data\n",
    "    \n",
    "    def read_data_of_website(website, path_to_articles):\n",
    "        \"\"\"Returns a dictionary of the form data[domain] = [json, ...]\"\"\"\n",
    "        data = {} # data[website_domain] = [json1, json2, ...]\n",
    "        website_path = path_to_articles + \"/{0}\".format(website)\n",
    "        website_domains = UtilsOS.directory_get(website_path, FileType.DIRECTORY)\n",
    "        for dom in website_domains:\n",
    "            domain_path = website_path + \"/{0}\".format(dom)\n",
    "            onlyfiles = UtilsOS.directory_get(domain_path, FileType.FILE)\n",
    "            read_json_list = []\n",
    "            for file in onlyfiles:\n",
    "                file_path = domain_path + \"/{0}\".format(file)\n",
    "                d = UtilsOS.read_json(file_path)\n",
    "                read_json_list.append(d)\n",
    "            data[dom] = read_json_list\n",
    "        return data\n",
    "\n",
    "    def get_titles(data):\n",
    "        \"\"\"Returns a list of titles contained in data\"\"\"\n",
    "        data = flatten(data)\n",
    "        return [el[\"title\"] for dom in data.keys() for el in data[dom]]\n",
    "\n",
    "    def get_urls(data):\n",
    "        \"\"\"Returns a list of urls contained in data\"\"\"\n",
    "        data = flatten(data)\n",
    "        return [el[\"url\"] for dom in data.keys() for el in data[dom]]"
   ]
  }
 ],
 "metadata": {
  "kernelspec": {
   "display_name": "Python 3",
   "language": "python",
   "name": "python3"
  },
  "language_info": {
   "codemirror_mode": {
    "name": "ipython",
    "version": 3
   },
   "file_extension": ".py",
   "mimetype": "text/x-python",
   "name": "python",
   "nbconvert_exporter": "python",
   "pygments_lexer": "ipython3",
   "version": "3.5.6"
  }
 },
 "nbformat": 4,
 "nbformat_minor": 2
}
