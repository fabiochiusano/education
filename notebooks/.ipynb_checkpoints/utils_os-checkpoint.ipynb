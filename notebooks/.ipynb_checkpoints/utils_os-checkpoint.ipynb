{
 "cells": [
  {
   "cell_type": "markdown",
   "metadata": {},
   "source": [
    "# Utils for reading from and writing to OS"
   ]
  },
  {
   "cell_type": "code",
   "execution_count": 1,
   "metadata": {},
   "outputs": [],
   "source": [
    "import os\n",
    "import shutil\n",
    "from enum import Enum\n",
    "import json"
   ]
  },
  {
   "cell_type": "code",
   "execution_count": null,
   "metadata": {},
   "outputs": [],
   "source": [
    "class FileType(Enum):\n",
    "    FILE = 1\n",
    "    DIRECTORY = 2\n",
    "    \n",
    "class UtilsOS:\n",
    "    def remove_hidden_files_from_list(l):\n",
    "        return [el for el in l if el[0] != \".\"]\n",
    "\n",
    "    def directory_get_relative_path_to_children(start_path, file_type=FileType.FILE):\n",
    "        if file_type == FileType.DIRECTORY:\n",
    "            children = [x[1] for x in os.walk(start_path)][0]\n",
    "        else:\n",
    "            children = [f for f in os.listdir(start_path) if os.path.isfile(os.path.join(start_path, f))]\n",
    "        children = UtilsOS.remove_hidden_files_from_list(children)\n",
    "        children = [start_path + \"/\" + subdir for subdir in children]\n",
    "        return children\n",
    "\n",
    "    def directory_exists(directory):\n",
    "        return os.path.exists(directory)\n",
    "\n",
    "    def directory_remove(directory):\n",
    "        shutil.rmtree(directory)\n",
    "\n",
    "    def directory_maybe_create(directory):\n",
    "        if not UtilsOS.directory_exists(directory):\n",
    "            os.makedirs(directory)\n",
    "            \n",
    "    def write_to_json(data, filename):\n",
    "        with open(filename, 'w') as outfile:\n",
    "            json.dump(data, outfile)\n",
    "            \n",
    "    def read_json(filename):\n",
    "        with open(filename, 'r') as infile:\n",
    "            return json.load(infile)"
   ]
  },
  {
   "cell_type": "markdown",
   "metadata": {},
   "source": [
    "# Tests"
   ]
  },
  {
   "cell_type": "code",
   "execution_count": null,
   "metadata": {},
   "outputs": [],
   "source": [
    "import unittest"
   ]
  },
  {
   "cell_type": "code",
   "execution_count": null,
   "metadata": {},
   "outputs": [],
   "source": [
    "class TestUtilsOS(unittest.TestCase):\n",
    "    def test_remove_hidden_files_from_list(self):\n",
    "        datum = [\"ciao\", \".what\", \"...\", \"asd\", \"a.txt\", \"cds.\"]\n",
    "        \n",
    "        result = UtilsOS.remove_hidden_files_from_list(datum)\n",
    "        expected = [\"ciao\", \"asd\", \"a.txt\", \"cds.\"]\n",
    "        \n",
    "        self.assertEqual(result, expected)"
   ]
  },
  {
   "cell_type": "code",
   "execution_count": null,
   "metadata": {},
   "outputs": [],
   "source": [
    "unittest.main(argv=[''], verbosity=2, exit=False)"
   ]
  }
 ],
 "metadata": {
  "kernelspec": {
   "display_name": "Python 3",
   "language": "python",
   "name": "python3"
  },
  "language_info": {
   "codemirror_mode": {
    "name": "ipython",
    "version": 3
   },
   "file_extension": ".py",
   "mimetype": "text/x-python",
   "name": "python",
   "nbconvert_exporter": "python",
   "pygments_lexer": "ipython3",
   "version": "3.5.6"
  }
 },
 "nbformat": 4,
 "nbformat_minor": 2
}
