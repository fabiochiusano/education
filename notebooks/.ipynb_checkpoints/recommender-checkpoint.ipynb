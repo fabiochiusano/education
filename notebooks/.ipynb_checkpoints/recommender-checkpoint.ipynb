{
 "cells": [
  {
   "cell_type": "code",
   "execution_count": 1,
   "metadata": {},
   "outputs": [],
   "source": [
    "import numpy as np\n",
    "import pandas as pd\n",
    "import os\n",
    "from os import listdir\n",
    "from os.path import isfile, join\n",
    "import json\n",
    "import matplotlib.pyplot as plt\n",
    "from bs4 import BeautifulSoup\n",
    "from bs4.element import Tag"
   ]
  },
  {
   "cell_type": "code",
   "execution_count": 2,
   "metadata": {},
   "outputs": [],
   "source": [
    "def remove_hidden(l):\n",
    "    return [el for el in l if el[0] != \".\"]\n",
    "\n",
    "def get_relative_path_to_dirs(start_path):\n",
    "    subdirs = [x[1] for x in os.walk(start_path)][0]\n",
    "    subdirs = remove_hidden(subdirs)\n",
    "    subdirs = [start_path + \"/\" + subdir for subdir in subdirs]\n",
    "    return subdirs\n",
    "\n",
    "def get_relative_path_to_files(start_path):\n",
    "    files = [f for f in listdir(start_path) if isfile(join(start_path, f))]\n",
    "    files = remove_hidden(files)\n",
    "    files = [start_path + \"/\" + file for file in files]\n",
    "    return files"
   ]
  },
  {
   "cell_type": "code",
   "execution_count": 3,
   "metadata": {},
   "outputs": [
    {
     "data": {
      "text/plain": [
       "['../articles/medium',\n",
       " '../articles/splinters',\n",
       " '../articles/tutorialspoint',\n",
       " '../articles/wikihow',\n",
       " '../articles/kdnuggets',\n",
       " '../articles/smartdatacollective']"
      ]
     },
     "execution_count": 3,
     "metadata": {},
     "output_type": "execute_result"
    }
   ],
   "source": [
    "home_articles_directory = \"../articles\"\n",
    "\n",
    "subdirs = get_relative_path_to_dirs(home_articles_directory)\n",
    "subdirs"
   ]
  },
  {
   "cell_type": "markdown",
   "metadata": {},
   "source": [
    "## Read dataset"
   ]
  },
  {
   "cell_type": "code",
   "execution_count": 5,
   "metadata": {},
   "outputs": [],
   "source": [
    "dataset = []\n",
    "\n",
    "for subdir in subdirs:\n",
    "    subsubdirs = get_relative_path_to_dirs(subdir)\n",
    "    for subsubdir in subsubdirs:\n",
    "        onlyfiles = get_relative_path_to_files(subsubdir)\n",
    "        read_json_list = []\n",
    "        for file in onlyfiles:\n",
    "            with open(file, 'r') as infile:\n",
    "                d = json.load(infile)\n",
    "                dataset.append(d)"
   ]
  },
  {
   "cell_type": "code",
   "execution_count": 6,
   "metadata": {},
   "outputs": [
    {
     "data": {
      "text/plain": [
       "838"
      ]
     },
     "execution_count": 6,
     "metadata": {},
     "output_type": "execute_result"
    }
   ],
   "source": [
    "len(dataset)"
   ]
  },
  {
   "cell_type": "markdown",
   "metadata": {},
   "source": [
    "## Extract content headers"
   ]
  },
  {
   "cell_type": "code",
   "execution_count": 37,
   "metadata": {},
   "outputs": [],
   "source": [
    "hs = [\"h1\", \"h2\", \"h3\"]\n",
    "\n",
    "for d in dataset:\n",
    "    headers = []\n",
    "    soup = BeautifulSoup(d[\"content_html\"])\n",
    "    for h in hs:\n",
    "        headers += [el.text for el in soup.select(h)]\n",
    "    d[\"headers\"] = headers"
   ]
  },
  {
   "cell_type": "code",
   "execution_count": 40,
   "metadata": {},
   "outputs": [
    {
     "name": "stdout",
     "output_type": "stream",
     "text": [
      "Average number of headers per article: 5.140811455847255\n"
     ]
    }
   ],
   "source": [
    "print(\"Average number of headers per article: {0}\".format(sum([len(d[\"headers\"]) for d in dataset]) / len(dataset)))"
   ]
  }
 ],
 "metadata": {
  "kernelspec": {
   "display_name": "Python 3",
   "language": "python",
   "name": "python3"
  },
  "language_info": {
   "codemirror_mode": {
    "name": "ipython",
    "version": 3
   },
   "file_extension": ".py",
   "mimetype": "text/x-python",
   "name": "python",
   "nbconvert_exporter": "python",
   "pygments_lexer": "ipython3",
   "version": "3.5.6"
  }
 },
 "nbformat": 4,
 "nbformat_minor": 2
}
