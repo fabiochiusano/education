{
 "cells": [
  {
   "cell_type": "markdown",
   "metadata": {},
   "source": [
    "# Scraper helper class that manages HTTP requests"
   ]
  },
  {
   "cell_type": "code",
   "execution_count": 2,
   "metadata": {},
   "outputs": [],
   "source": [
    "import requests\n",
    "import random\n",
    "import string\n",
    "from stem import Signal\n",
    "from stem.control import Controller"
   ]
  },
  {
   "cell_type": "code",
   "execution_count": 3,
   "metadata": {},
   "outputs": [],
   "source": [
    "class ScraperRequests:\n",
    "    \"\"\"Allow to make HTTP requests in a scraping manner, i.e. with timeouts, random IP, user agent, from field.\n",
    "       It requires a Tor server running on the machine with port 9051 open. \n",
    "    \"\"\"\n",
    "    \n",
    "    _user_agents = [\"Mozilla/5.0 (Windows NT 10.0; Win64; x64) AppleWebKit/537.36 (KHTML, like Gecko) Chrome/60.0.3112.113 Safari/537.36\",\n",
    "              \"Mozilla/5.0 (Windows NT 10.0; Win64; x64) AppleWebKit/537.36 (KHTML, like Gecko) Chrome/58.0.3029.110 Safari/537.36\",\n",
    "              \"Mozilla/5.0 (Windows NT 5.1) AppleWebKit/537.36 (KHTML, like Gecko) Chrome/49.0.2623.112 Safari/537.36\",\n",
    "              \"Mozilla/5.0 (Windows NT 6.1; Win64; x64) AppleWebKit/537.36 (KHTML, like Gecko) Chrome/63.0.3239.84 Safari/537.36\",\n",
    "              \"Mozilla/5.0 (Windows NT 6.1; Win64; x64) AppleWebKit/537.36 (KHTML, like Gecko) Chrome/64.0.3282.186 Safari/537.36\"]\n",
    "    _from_lenght = 8\n",
    "    _ip_rotate_every = 10\n",
    "\n",
    "    def _get_random_user_agent(self):\n",
    "        return random.choice(self._user_agents)\n",
    "\n",
    "    def _get_random_from(self):\n",
    "        return ''.join(random.choice(string.ascii_uppercase + string.digits) for _ in range(self._from_lenght)) + \"@gmail.com\"\n",
    "    \n",
    "    def _get_tor_session(self):\n",
    "        session = requests.session()\n",
    "        \n",
    "        # Tor uses the 9050 port as the default socks port\n",
    "        session.proxies = {'http':  'socks5://127.0.0.1:9050',\n",
    "                           'https': 'socks5://127.0.0.1:9050'}\n",
    "        return session\n",
    "    \n",
    "    # signal TOR for a new connection \n",
    "    def _renew_connection(self):\n",
    "        with Controller.from_port(port = 9051) as controller:\n",
    "            controller.authenticate(password=\"password\")\n",
    "            controller.signal(Signal.NEWNYM)\n",
    "            pass\n",
    "    \n",
    "    def __init__(self, verbose=False):\n",
    "        self._verbose = verbose\n",
    "        self._ip_counter = 0\n",
    "    \n",
    "    def make_get(self, url):\n",
    "        if self._ip_counter > self._ip_rotate_every:\n",
    "            self._renew_connection()\n",
    "            self._ip_counter = 0\n",
    "            \n",
    "        session = self._get_tor_session()\n",
    "        if self._verbose:\n",
    "            print(session.get(\"http://httpbin.org/ip\").text)\n",
    "        self._ip_counter += 1\n",
    "        headers = {\n",
    "            'User-Agent': self._get_random_user_agent(),\n",
    "            'From': self._get_random_from()\n",
    "        }\n",
    "        return session.get(url, headers=headers)"
   ]
  }
 ],
 "metadata": {
  "kernelspec": {
   "display_name": "Python 3",
   "language": "python",
   "name": "python3"
  },
  "language_info": {
   "codemirror_mode": {
    "name": "ipython",
    "version": 3
   },
   "file_extension": ".py",
   "mimetype": "text/x-python",
   "name": "python",
   "nbconvert_exporter": "python",
   "pygments_lexer": "ipython3",
   "version": "3.5.6"
  }
 },
 "nbformat": 4,
 "nbformat_minor": 2
}
