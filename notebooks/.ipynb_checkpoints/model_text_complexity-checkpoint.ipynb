{
 "cells": [
  {
   "cell_type": "markdown",
   "metadata": {},
   "source": [
    "# Calculate complexity for each article"
   ]
  },
  {
   "cell_type": "code",
   "execution_count": 1,
   "metadata": {},
   "outputs": [
    {
     "name": "stdout",
     "output_type": "stream",
     "text": [
      "Importing Jupyter notebook from constants.ipynb\n",
      "Importing Jupyter notebook from preprocessed_data_reader.ipynb\n",
      "Importing Jupyter notebook from utils_os.ipynb\n"
     ]
    }
   ],
   "source": [
    "import nbimporter\n",
    "from constants import Constants\n",
    "from preprocessed_data_reader import ReaderPreprocessedData\n",
    "\n",
    "import pandas as pd"
   ]
  },
  {
   "cell_type": "code",
   "execution_count": 2,
   "metadata": {},
   "outputs": [],
   "source": [
    "dataset = ReaderPreprocessedData.read_data(\"../preprocessed\")"
   ]
  },
  {
   "cell_type": "code",
   "execution_count": 8,
   "metadata": {},
   "outputs": [],
   "source": [
    "for sample in dataset:\n",
    "    sample[\"complexity\"] = sample[\"tfidf\"][\"logtfidf\"].mean()"
   ]
  },
  {
   "cell_type": "code",
   "execution_count": 9,
   "metadata": {},
   "outputs": [],
   "source": [
    "dataset = sorted(dataset, key=lambda s:s[\"complexity\"])"
   ]
  },
  {
   "cell_type": "code",
   "execution_count": 13,
   "metadata": {},
   "outputs": [
    {
     "name": "stdout",
     "output_type": "stream",
     "text": [
      "The Periodic Table of Videos\n",
      "Get Packt Skill Up Developer Skills Report\n",
      "Why Do Employees Leave?\n",
      "JDBC - WHERE Clause Example\n",
      "SAP PS Tutorial\n"
     ]
    }
   ],
   "source": [
    "# simple articles\n",
    "for sample in dataset[:5]:\n",
    "    print(sample[\"title\"])"
   ]
  },
  {
   "cell_type": "code",
   "execution_count": 14,
   "metadata": {},
   "outputs": [
    {
     "name": "stdout",
     "output_type": "stream",
     "text": [
      "“Get a job, Ken!” Part 1: The Timeline\n",
      "How to Make a Chocolate Cake\n",
      "SAP Lumira - Quick Guide\n",
      "Microwave Engineering - Example Problems\n",
      "Laptops and tablets on sale: Shop Lenovo, MacBook, Microsoft Surface, Samsung Galaxy Tab\n"
     ]
    }
   ],
   "source": [
    "# complex articles\n",
    "for sample in dataset[::-1][:5]:\n",
    "    print(sample[\"title\"])"
   ]
  },
  {
   "cell_type": "code",
   "execution_count": null,
   "metadata": {},
   "outputs": [],
   "source": []
  }
 ],
 "metadata": {
  "kernelspec": {
   "display_name": "Python 3",
   "language": "python",
   "name": "python3"
  },
  "language_info": {
   "codemirror_mode": {
    "name": "ipython",
    "version": 3
   },
   "file_extension": ".py",
   "mimetype": "text/x-python",
   "name": "python",
   "nbconvert_exporter": "python",
   "pygments_lexer": "ipython3",
   "version": "3.5.6"
  }
 },
 "nbformat": 4,
 "nbformat_minor": 2
}
