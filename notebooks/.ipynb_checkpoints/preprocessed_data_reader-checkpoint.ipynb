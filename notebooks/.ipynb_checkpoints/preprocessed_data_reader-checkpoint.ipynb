{
 "cells": [
  {
   "cell_type": "markdown",
   "metadata": {},
   "source": [
    "# Preprocessed data reader"
   ]
  },
  {
   "cell_type": "code",
   "execution_count": 5,
   "metadata": {},
   "outputs": [],
   "source": [
    "import nbimporter\n",
    "from utils_os import UtilsOS\n",
    "from utils_os import FileType\n",
    "import pandas as pd"
   ]
  },
  {
   "cell_type": "code",
   "execution_count": 4,
   "metadata": {},
   "outputs": [],
   "source": [
    "class ReaderPreprocessedData:\n",
    "    def read_data(preprocessed_directory):\n",
    "        \"\"\"Reads preprocessed data from \"\"\"\n",
    "        dataset = []\n",
    "        onlyfiles = UtilsOS.directory_get_relative_path_to_children(preprocessed_directory, FileType.FILE)\n",
    "        for file in onlyfiles:\n",
    "            d = UtilsOS.read_json(file)\n",
    "            d[\"tfidf\"] = pd.DataFrame(d[\"tfidf\"])\n",
    "            dataset.append(d)\n",
    "        return dataset"
   ]
  }
 ],
 "metadata": {
  "kernelspec": {
   "display_name": "Python 3",
   "language": "python",
   "name": "python3"
  },
  "language_info": {
   "codemirror_mode": {
    "name": "ipython",
    "version": 3
   },
   "file_extension": ".py",
   "mimetype": "text/x-python",
   "name": "python",
   "nbconvert_exporter": "python",
   "pygments_lexer": "ipython3",
   "version": "3.5.6"
  }
 },
 "nbformat": 4,
 "nbformat_minor": 2
}
