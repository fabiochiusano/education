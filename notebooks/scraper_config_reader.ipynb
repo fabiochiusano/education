{
 "cells": [
  {
   "cell_type": "markdown",
   "metadata": {},
   "source": [
    "# Scraper configuration reader"
   ]
  },
  {
   "cell_type": "markdown",
   "metadata": {},
   "source": [
    "For each website we scrape, we need:\n",
    "- starting url\n",
    "- selector for title\n",
    "- selector for content"
   ]
  },
  {
   "cell_type": "code",
   "execution_count": 1,
   "metadata": {},
   "outputs": [],
   "source": [
    "import json"
   ]
  },
  {
   "cell_type": "code",
   "execution_count": 5,
   "metadata": {},
   "outputs": [],
   "source": [
    "class ScraperConfigReader:\n",
    "    first_url_key = \"first_url\"\n",
    "    content_selector_key = \"content_selector\"\n",
    "    title_selector_key = \"title_selector\"\n",
    "        \n",
    "    def get_configs(path_to_scraper_config, need_javascript=False):\n",
    "        with open(path_to_scraper_config, \"r\") as f:\n",
    "            configs = json.load(f)\n",
    "        \n",
    "        if not need_javascript:\n",
    "            return {k:v for k,v in configs.items() if not v[\"need_javascript\"]}\n",
    "        return configs"
   ]
  }
 ],
 "metadata": {
  "kernelspec": {
   "display_name": "Python 3",
   "language": "python",
   "name": "python3"
  },
  "language_info": {
   "codemirror_mode": {
    "name": "ipython",
    "version": 3
   },
   "file_extension": ".py",
   "mimetype": "text/x-python",
   "name": "python",
   "nbconvert_exporter": "python",
   "pygments_lexer": "ipython3",
   "version": "3.5.6"
  }
 },
 "nbformat": 4,
 "nbformat_minor": 2
}
