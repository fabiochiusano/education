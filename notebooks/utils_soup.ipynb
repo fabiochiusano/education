{
 "cells": [
  {
   "cell_type": "markdown",
   "metadata": {},
   "source": [
    "# Utils for operating with BeautifulSoup objects"
   ]
  },
  {
   "cell_type": "code",
   "execution_count": 3,
   "metadata": {},
   "outputs": [],
   "source": [
    "from bs4.element import Tag"
   ]
  },
  {
   "cell_type": "code",
   "execution_count": 4,
   "metadata": {},
   "outputs": [],
   "source": [
    "class UtilsSoup:\n",
    "    def from_tag_to_inner_text(tag):\n",
    "        \"\"\"From a BeautifulSoup Tag, it recursively reads the text field of\n",
    "           its children and returns their concatenation\n",
    "        \"\"\"\n",
    "        res = \"\"\n",
    "        if tag.name == \"script\":\n",
    "            return res\n",
    "        elif type(tag) == Tag:\n",
    "            for tc in tag.children:\n",
    "                res += UtilsSoup.from_tag_to_inner_text(tc) + \" \"\n",
    "        else:\n",
    "            res += str(tag)\n",
    "        return res\n",
    "\n",
    "    def get_with_selector(selectors, soup):\n",
    "        \"\"\"From a Soup object and an ordered list of CSS selectors, it tries one selector at a time on the Soup object\n",
    "           until it finds something and returns the pair (concatenated htmls, concatenated strings)\n",
    "        \"\"\"\n",
    "        res_html = \"\"\n",
    "        res_string = \"\"\n",
    "        for selector in selectors:\n",
    "            el_list = soup.select(selector) # may be more than one\n",
    "            for el in el_list:\n",
    "                res_html += str(el) + \" \"\n",
    "                res_string += UtilsSoup.from_tag_to_inner_text(el) + \" \"\n",
    "            if len(el_list) > 0:\n",
    "                break\n",
    "        return res_html, res_string"
   ]
  }
 ],
 "metadata": {
  "kernelspec": {
   "display_name": "Python 3",
   "language": "python",
   "name": "python3"
  },
  "language_info": {
   "codemirror_mode": {
    "name": "ipython",
    "version": 3
   },
   "file_extension": ".py",
   "mimetype": "text/x-python",
   "name": "python",
   "nbconvert_exporter": "python",
   "pygments_lexer": "ipython3",
   "version": "3.5.6"
  }
 },
 "nbformat": 4,
 "nbformat_minor": 2
}
