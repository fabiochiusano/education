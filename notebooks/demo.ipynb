{
 "cells": [
  {
   "cell_type": "code",
   "execution_count": 1,
   "metadata": {},
   "outputs": [
    {
     "name": "stdout",
     "output_type": "stream",
     "text": [
      "Importing Jupyter notebook from preprocessed_data_reader.ipynb\n",
      "Importing Jupyter notebook from utils_os.ipynb\n",
      "Importing Jupyter notebook from recommender.ipynb\n"
     ]
    },
    {
     "name": "stderr",
     "output_type": "stream",
     "text": [
      "WARNING: Logging before flag parsing goes to stderr.\n",
      "W0430 17:48:43.794015 4478801344 __init__.py:56] Some hub symbols are not available because TensorFlow version is less than 1.14\n"
     ]
    }
   ],
   "source": [
    "import nbimporter\n",
    "from preprocessed_data_reader import ReaderPreprocessedData\n",
    "from recommender import UserState, RecommenderTFIDF, RecommenderBERT\n",
    "from utils_os import UtilsOS\n",
    "\n",
    "import random\n",
    "\n",
    "import warnings\n",
    "warnings.filterwarnings('ignore')"
   ]
  },
  {
   "cell_type": "code",
   "execution_count": 4,
   "metadata": {},
   "outputs": [],
   "source": [
    "def get_random_article(dataset):\n",
    "    random_index = random.randint(0, len(dataset) - 1)\n",
    "    return dataset[random_index]\n",
    "\"\"\"\n",
    "def retrieve_best_unstemmed_word(stem_word, stem_dictionary):\n",
    "    d = stem_dictionary[stem_word]\n",
    "    return max(d, key=d.get)\n",
    "\"\"\"\n",
    "def interactive_demo(dataset, stem_dictionary, top_n=10, max_words=10, max_sim_explained=0.9, idf_threshold=2.5):\n",
    "    counter = 0\n",
    "    recommender = RecommenderTFIDF(dataset)\n",
    "    user_state = UserState()\n",
    "    while True:\n",
    "        if counter == 0:\n",
    "            print(\"Titles:\")\n",
    "            articles = [get_random_article(dataset) for j in range(top_n)]\n",
    "            for j,article in enumerate(articles):\n",
    "                print(\"{0} - Title: {1}\".format(j, article[\"title\"]))\n",
    "                print(\"URL: {1}\".format(j, article[\"url\"]))\n",
    "                print(\"--------------------------------\")\n",
    "        \n",
    "        print()\n",
    "        print()\n",
    "        print()\n",
    "        if counter == 0:\n",
    "            time_to_read = int(input(\"Indicate available time [min]: \"))\n",
    "            time_to_read *= 60\n",
    "        chosen_index = int(input(\"Choose an article: \"))\n",
    "        user_state.add_read_article(chosen_index)\n",
    "        \n",
    "        if counter == 0:\n",
    "            chosen_article = articles[chosen_index]\n",
    "        else:\n",
    "            #chosen_article = dataset[similarities[i].index]\n",
    "            chosen_article = dataset[similarities[i]]\n",
    "\n",
    "        similarities = recommender.recommend_articles(user_state, how_many=top_n)\n",
    "        #similarities = [sim for sim in similarities if dataset[sim[0]][\"read_time\"] < time_to_read]\n",
    "        similarities = [sim for sim in similarities if dataset[sim][\"read_time\"] < time_to_read]\n",
    "\n",
    "        print(\"The top {0} similar articles are:\".format(top_n))\n",
    "        for i in range(1, top_n+1): # i == 0 corresponds to the same article\n",
    "            print(\"--------------------------------\")\n",
    "            #print(\"{0} - Title: {1}\".format(i - 1, dataset[similarities[i].index][\"title\"]))\n",
    "            print(\"{0} - Title: {1}\".format(i - 1, dataset[similarities[i]][\"title\"]))\n",
    "            #print(\"URL: {0}\".format(dataset[similarities[i].index][\"url\"]))\n",
    "            print(\"URL: {0}\".format(dataset[similarities[i]][\"url\"]))\n",
    "            #print(\"Similarity score: {0:.2f}%\".format(similarities[i].similarity * 100))\n",
    "            print(\"Time to read [min]: {0:.2f}\".format(dataset[similarities[i]][\"read_time\"] / 60))\n",
    "            #print(\"Time to read [min]: {0:.2f}\".format(dataset[similarities[i].index][\"read_time\"] / 60))\n",
    "            \"\"\"\n",
    "            print(\"Most important words:\")\n",
    "            sim_tot = 0\n",
    "            for j in range(min(max_words, len(similarities[i].words_importance_list))):\n",
    "                sw = similarities[i].words_importance_list[j].word\n",
    "                w = retrieve_best_unstemmed_word(sw, stem_dictionary)\n",
    "                score = similarities[i].words_importance_list[j].perc_sim\n",
    "                idf_score = similarities[i].words_importance_list[j].idf\n",
    "                if idf_score >= idf_threshold:\n",
    "                    print(\"\\t{0}, with percentage {1:.2f}%\".format(w.capitalize(), score * 100))\n",
    "                sim_tot += score\n",
    "                if sim_tot >= max_sim_explained:\n",
    "                    break\n",
    "            \"\"\"\n",
    "                    \n",
    "        counter += 1"
   ]
  },
  {
   "cell_type": "markdown",
   "metadata": {},
   "source": [
    "# Run demo"
   ]
  },
  {
   "cell_type": "code",
   "execution_count": 6,
   "metadata": {},
   "outputs": [
    {
     "name": "stdout",
     "output_type": "stream",
     "text": [
      "Read 4443 articles\n",
      "Titles:\n",
      "0 - Title: How To Go Into Data Science: Ultimate Q&A for Aspiring Data Scientists with Serious Guides\n",
      "URL: https://www.kdnuggets.com/2019/04/data-science-ultimate-questions-answers-aspiring-data-scientists.html\n",
      "--------------------------------\n",
      "1 - Title: Medieval Indian History Tutorial\n",
      "URL: https://www.tutorialspoint.com/medieval_indian_history/index.htm\n",
      "--------------------------------\n",
      "2 - Title: Maid Service For The Masses? YC-Backed Pathjoy Offers Affordable Housecleaning With Easy Web Booking\n",
      "URL: https://beta.techcrunch.com/2012/10/16/pathjoy-launch\n",
      "--------------------------------\n",
      "3 - Title: C - Program Structure\n",
      "URL: https://www.tutorialspoint.com/cprogramming/c_program_structure.htm\n",
      "--------------------------------\n",
      "4 - Title: Philosophical SF: Fifth Batch of Lists (Jollimore, Chalmers, Palma, Schneider)\n",
      "URL: http://schwitzsplinters.blogspot.com/2014/10/philosophical-sf-fifth-batch-of-lists.html\n",
      "--------------------------------\n",
      "5 - Title: Against \"Appearances\"\n",
      "URL: http://schwitzsplinters.blogspot.com/2007/04/against-appearances.html\n",
      "--------------------------------\n",
      "6 - Title: Meryl Streep and Ai-jen Poo urge everyone to join them in fight against 'power imbalance'\n",
      "URL: http://mashable.com/2018/01/08/meryl-streep-ai-jen-poo\n",
      "--------------------------------\n",
      "7 - Title: 10 Best Mobile Apps for Data Scientist / Data Analysts\n",
      "URL: https://www.kdnuggets.com/2018/10/10-best-mobile-apps-data-scientist.html\n",
      "--------------------------------\n",
      "8 - Title: Milk Makeup's New Waterproof Mascara Is Better Than The Original\n",
      "URL: https://www.refinery29.com/en-us/2019/04/230204/milk-makeup-kush-waterproof-mascara-review\n",
      "--------------------------------\n",
      "9 - Title: Verbal Ability - Determiners\n",
      "URL: https://www.tutorialspoint.com/verbal_ability/verbal_ability_determiners.htm\n",
      "--------------------------------\n",
      "\n",
      "\n",
      "\n"
     ]
    },
    {
     "name": "stdin",
     "output_type": "stream",
     "text": [
      "Indicate available time [min]:  100\n",
      "Choose an article:  6\n"
     ]
    },
    {
     "ename": "TypeError",
     "evalue": "'int' object is not subscriptable",
     "output_type": "error",
     "traceback": [
      "\u001b[0;31m---------------------------------------------------------------------------\u001b[0m",
      "\u001b[0;31mTypeError\u001b[0m                                 Traceback (most recent call last)",
      "\u001b[0;32m<ipython-input-6-2ea7f1b525ce>\u001b[0m in \u001b[0;36m<module>\u001b[0;34m()\u001b[0m\n\u001b[1;32m      5\u001b[0m     \u001b[0mstem_dictionary\u001b[0m \u001b[0;34m=\u001b[0m \u001b[0mUtilsOS\u001b[0m\u001b[0;34m.\u001b[0m\u001b[0mread_json\u001b[0m\u001b[0;34m(\u001b[0m\u001b[0;34m'json/stem_dictionary.json'\u001b[0m\u001b[0;34m)\u001b[0m\u001b[0;34m\u001b[0m\u001b[0m\n\u001b[1;32m      6\u001b[0m \u001b[0;34m\u001b[0m\u001b[0m\n\u001b[0;32m----> 7\u001b[0;31m     \u001b[0minteractive_demo\u001b[0m\u001b[0;34m(\u001b[0m\u001b[0mdataset\u001b[0m\u001b[0;34m,\u001b[0m \u001b[0mstem_dictionary\u001b[0m\u001b[0;34m,\u001b[0m \u001b[0mtop_n\u001b[0m\u001b[0;34m=\u001b[0m\u001b[0;36m10\u001b[0m\u001b[0;34m,\u001b[0m \u001b[0mmax_words\u001b[0m\u001b[0;34m=\u001b[0m\u001b[0;36m5\u001b[0m\u001b[0;34m,\u001b[0m \u001b[0mmax_sim_explained\u001b[0m\u001b[0;34m=\u001b[0m\u001b[0;36m0.9\u001b[0m\u001b[0;34m,\u001b[0m \u001b[0midf_threshold\u001b[0m\u001b[0;34m=\u001b[0m\u001b[0;36m2.5\u001b[0m\u001b[0;34m)\u001b[0m\u001b[0;34m\u001b[0m\u001b[0m\n\u001b[0m",
      "\u001b[0;32m<ipython-input-4-5811fef7f887>\u001b[0m in \u001b[0;36minteractive_demo\u001b[0;34m(dataset, stem_dictionary, top_n, max_words, max_sim_explained, idf_threshold)\u001b[0m\n\u001b[1;32m     35\u001b[0m             \u001b[0mchosen_article\u001b[0m \u001b[0;34m=\u001b[0m \u001b[0mdataset\u001b[0m\u001b[0;34m[\u001b[0m\u001b[0msimilarities\u001b[0m\u001b[0;34m[\u001b[0m\u001b[0mi\u001b[0m\u001b[0;34m]\u001b[0m\u001b[0;34m]\u001b[0m\u001b[0;34m\u001b[0m\u001b[0m\n\u001b[1;32m     36\u001b[0m \u001b[0;34m\u001b[0m\u001b[0m\n\u001b[0;32m---> 37\u001b[0;31m         \u001b[0msimilarities\u001b[0m \u001b[0;34m=\u001b[0m \u001b[0mrecommender\u001b[0m\u001b[0;34m.\u001b[0m\u001b[0mrecommend_articles\u001b[0m\u001b[0;34m(\u001b[0m\u001b[0muser_state\u001b[0m\u001b[0;34m,\u001b[0m \u001b[0mhow_many\u001b[0m\u001b[0;34m=\u001b[0m\u001b[0mtop_n\u001b[0m\u001b[0;34m)\u001b[0m\u001b[0;34m\u001b[0m\u001b[0m\n\u001b[0m\u001b[1;32m     38\u001b[0m         \u001b[0;31m#similarities = [sim for sim in similarities if dataset[sim[0]][\"read_time\"] < time_to_read]\u001b[0m\u001b[0;34m\u001b[0m\u001b[0;34m\u001b[0m\u001b[0m\n\u001b[1;32m     39\u001b[0m         \u001b[0msimilarities\u001b[0m \u001b[0;34m=\u001b[0m \u001b[0;34m[\u001b[0m\u001b[0msim\u001b[0m \u001b[0;32mfor\u001b[0m \u001b[0msim\u001b[0m \u001b[0;32min\u001b[0m \u001b[0msimilarities\u001b[0m \u001b[0;32mif\u001b[0m \u001b[0mdataset\u001b[0m\u001b[0;34m[\u001b[0m\u001b[0msim\u001b[0m\u001b[0;34m]\u001b[0m\u001b[0;34m[\u001b[0m\u001b[0;34m\"read_time\"\u001b[0m\u001b[0;34m]\u001b[0m \u001b[0;34m<\u001b[0m \u001b[0mtime_to_read\u001b[0m\u001b[0;34m]\u001b[0m\u001b[0;34m\u001b[0m\u001b[0m\n",
      "\u001b[0;32m~/Desktop/education/notebooks/recommender.ipynb\u001b[0m in \u001b[0;36mrecommend_articles\u001b[0;34m(self, user_state, how_many)\u001b[0m\n\u001b[1;32m     37\u001b[0m    \u001b[0;34m\"execution_count\"\u001b[0m\u001b[0;34m:\u001b[0m \u001b[0;36m2\u001b[0m\u001b[0;34m,\u001b[0m\u001b[0;34m\u001b[0m\u001b[0m\n\u001b[1;32m     38\u001b[0m    \u001b[0;34m\"metadata\"\u001b[0m\u001b[0;34m:\u001b[0m \u001b[0;34m{\u001b[0m\u001b[0;34m}\u001b[0m\u001b[0;34m,\u001b[0m\u001b[0;34m\u001b[0m\u001b[0m\n\u001b[0;32m---> 39\u001b[0;31m    \u001b[0;34m\"outputs\"\u001b[0m\u001b[0;34m:\u001b[0m \u001b[0;34m[\u001b[0m\u001b[0;34m]\u001b[0m\u001b[0;34m,\u001b[0m\u001b[0;34m\u001b[0m\u001b[0m\n\u001b[0m\u001b[1;32m     40\u001b[0m    \"source\": [\n\u001b[1;32m     41\u001b[0m     \u001b[0;34m\"class UserState:\\n\"\u001b[0m\u001b[0;34m,\u001b[0m\u001b[0;34m\u001b[0m\u001b[0m\n",
      "\u001b[0;32m~/Desktop/education/notebooks/recommender.ipynb\u001b[0m in \u001b[0;36m_order_dataset_by_similarity\u001b[0;34m(self, reference_article)\u001b[0m\n\u001b[1;32m     24\u001b[0m     \u001b[0;34m\"from preprocessed_data_reader import ReaderPreprocessedData\\n\"\u001b[0m\u001b[0;34m,\u001b[0m\u001b[0;34m\u001b[0m\u001b[0m\n\u001b[1;32m     25\u001b[0m     \u001b[0;34m\"from utils_os import UtilsOS\"\u001b[0m\u001b[0;34m\u001b[0m\u001b[0m\n\u001b[0;32m---> 26\u001b[0;31m    ]\n\u001b[0m\u001b[1;32m     27\u001b[0m   },\n\u001b[1;32m     28\u001b[0m   {\n",
      "\u001b[0;31mTypeError\u001b[0m: 'int' object is not subscriptable"
     ]
    }
   ],
   "source": [
    "if __name__ == \"__main__\":\n",
    "    dataset = ReaderPreprocessedData.read_data(\"../preprocessed\")\n",
    "    print(\"Read {0} articles\".format(len(dataset)))\n",
    "    \n",
    "    stem_dictionary = UtilsOS.read_json('json/stem_dictionary.json')\n",
    "    \n",
    "    interactive_demo(dataset, stem_dictionary, top_n=10, max_words=5, max_sim_explained=0.9, idf_threshold=2.5)"
   ]
  }
 ],
 "metadata": {
  "kernelspec": {
   "display_name": "Python 3",
   "language": "python",
   "name": "python3"
  },
  "language_info": {
   "codemirror_mode": {
    "name": "ipython",
    "version": 3
   },
   "file_extension": ".py",
   "mimetype": "text/x-python",
   "name": "python",
   "nbconvert_exporter": "python",
   "pygments_lexer": "ipython3",
   "version": "3.5.6"
  }
 },
 "nbformat": 4,
 "nbformat_minor": 2
}
