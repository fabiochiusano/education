{
 "cells": [
  {
   "cell_type": "code",
   "execution_count": null,
   "metadata": {},
   "outputs": [],
   "source": [
    "import numpy as np\n",
    "import pandas as pd\n",
    "import os\n",
    "from os import listdir\n",
    "from os.path import isfile, join\n",
    "import json\n",
    "import matplotlib.pyplot as plt\n",
    "from bs4 import BeautifulSoup\n",
    "from bs4.element import Tag"
   ]
  },
  {
   "cell_type": "code",
   "execution_count": null,
   "metadata": {},
   "outputs": [],
   "source": [
    "subdirs = [x[1] for x in os.walk(\".\")][0]\n",
    "subdirs"
   ]
  },
  {
   "cell_type": "code",
   "execution_count": null,
   "metadata": {},
   "outputs": [],
   "source": [
    "subdirs.remove(\".ipynb_checkpoints\")"
   ]
  },
  {
   "cell_type": "code",
   "execution_count": null,
   "metadata": {},
   "outputs": [],
   "source": [
    "subdirs"
   ]
  },
  {
   "cell_type": "code",
   "execution_count": null,
   "metadata": {},
   "outputs": [],
   "source": [
    "data = {}\n",
    "\n",
    "for subdir in subdirs:\n",
    "    subsubdirs = [x[1] for x in os.walk(subdir)][0]\n",
    "    sub_data = {}\n",
    "    for subsubdir in subsubdirs:\n",
    "        complete_path = subdir + \"/\" + subsubdir\n",
    "        onlyfiles = [f for f in listdir(complete_path) if isfile(join(complete_path, f))]\n",
    "        read_json_list = []\n",
    "        for file in onlyfiles:\n",
    "            absolute_filename = complete_path + \"/\" + file\n",
    "            with open(absolute_filename, 'r') as infile:\n",
    "                d = json.load(infile)\n",
    "                read_json_list.append(d)\n",
    "        sub_data[subsubdir] = read_json_list\n",
    "    data[subdir] = sub_data"
   ]
  },
  {
   "cell_type": "markdown",
   "metadata": {},
   "source": [
    "## Number of scraped tutorials per website"
   ]
  },
  {
   "cell_type": "code",
   "execution_count": null,
   "metadata": {},
   "outputs": [],
   "source": [
    "data_plt = {}\n",
    "for k,v in data.items():\n",
    "    for k2,v2 in v.items():\n",
    "        data_plt[k2] = len(v2)\n",
    "\n",
    "fig = plt.figure(figsize=(20,10))\n",
    "plt.bar(range(len(data_plt)), list(data_plt.values()), align='center')\n",
    "plt.xticks(range(len(data_plt)), list(data_plt.keys()), rotation=90)\n",
    "\n",
    "plt.show()"
   ]
  },
  {
   "cell_type": "markdown",
   "metadata": {},
   "source": [
    "## Average lenght of title html per website"
   ]
  },
  {
   "cell_type": "code",
   "execution_count": null,
   "metadata": {},
   "outputs": [],
   "source": [
    "data_plt = {}\n",
    "for k,v in data.items():\n",
    "    for k2,v2 in v.items():\n",
    "        data_plt[k2] = sum([len(j[\"html\"]) for j in v2]) / len(v2)\n",
    "\n",
    "fig = plt.figure(figsize=(20,10))\n",
    "plt.bar(range(len(data_plt)), list(data_plt.values()), align='center')\n",
    "plt.xticks(range(len(data_plt)), list(data_plt.keys()), rotation=90)\n",
    "\n",
    "plt.show()"
   ]
  },
  {
   "cell_type": "markdown",
   "metadata": {},
   "source": [
    "## Average title length per website"
   ]
  },
  {
   "cell_type": "code",
   "execution_count": null,
   "metadata": {},
   "outputs": [],
   "source": [
    "data_plt = {}\n",
    "for k,v in data.items():\n",
    "    for k2,v2 in v.items():\n",
    "        data_plt[k2] = sum([len(j[\"title\"]) for j in v2]) / len(v2)\n",
    "\n",
    "fig = plt.figure(figsize=(20,10))\n",
    "plt.bar(range(len(data_plt)), list(data_plt.values()), align='center')\n",
    "plt.xticks(range(len(data_plt)), list(data_plt.keys()), rotation=90)\n",
    "\n",
    "plt.show()"
   ]
  },
  {
   "cell_type": "markdown",
   "metadata": {},
   "source": [
    "## Sample titles"
   ]
  },
  {
   "cell_type": "code",
   "execution_count": null,
   "metadata": {},
   "outputs": [],
   "source": [
    "import random"
   ]
  },
  {
   "cell_type": "code",
   "execution_count": null,
   "metadata": {},
   "outputs": [],
   "source": [
    "for k1,v1 in data.items():\n",
    "    for k2,v2 in v1.items():\n",
    "        random_selected = np.random.choice(v2, size=5, replace=True)\n",
    "        titles_and_urls = [(el[\"title\"], el[\"url\"]) for el in random_selected]\n",
    "        print(k2 + \":\")\n",
    "        for t,u in titles_and_urls:\n",
    "            print(t + \" --> \" + u)\n",
    "        print(\"---------\")"
   ]
  },
  {
   "cell_type": "markdown",
   "metadata": {},
   "source": [
    "## Sample article HTML tag chains"
   ]
  },
  {
   "cell_type": "code",
   "execution_count": 101,
   "metadata": {},
   "outputs": [
    {
     "name": "stdout",
     "output_type": "stream",
     "text": [
      "www.thehistoryblog.com:\n",
      "p a img a a blockquote p p a p a img p p a img p a img p script p audio source p script p a div div a img ---> http://www.thehistoryblog.com/archives/date/2012/01\n",
      "p a img p p a em p a img a em p blockquote p p p a em a p a div div a img ---> http://www.thehistoryblog.com/archives/date/2013/01\n",
      "p a em em p a img p p a img em p blockquote p br br br br br br br br br br p em p a img em em blockquote p p div div a img ---> http://www.thehistoryblog.com/archives/date/2019/03/03\n",
      "p a img a a img p a img p p a img p a img p a img p a em blockquote p a img p p a img p a img p div div a img ---> http://www.thehistoryblog.com/archives/date/2014/04\n",
      "p a img a p p em p a p a img p a a p p p p iframe div div a img ---> http://www.thehistoryblog.com/archives/date/2013/07\n",
      "---------\n",
      "www.tutorialspoint.com:\n",
      "div img hr div a i div a i div hr h1 div form input button i a button i a button i button i a div p p h1 p h1 p hr div a i div a i div a i hr div div script script ---> https://www.tutorialspoint.com/javazip/index.htm\n",
      "h1 hr div div script script hr div a i div a i div hr p h2 p b b h3 p b pre h3 pre p b p p pre p h3 pre p b b b b hr div a i div a i div a i hr div div script script ---> https://www.tutorialspoint.com/mongodb/mongodb_insert_document.htm\n",
      "h1 hr div div script script hr div a i div a i div hr p h2 ul li li li li li li h2 p img p ul li p b li p b li p b hr div a i div a i div a i hr div div script script ---> https://www.tutorialspoint.com/mongodb/mongodb_sharding.htm\n",
      "h1 hr div div script script hr div a i div a i div hr p b h2 pre h2 p b pre h3 img p img hr div a i div a i div a i hr div div script script ---> https://www.tutorialspoint.com/react_native/react_native_alert.htm\n",
      "div img hr div a i div a i div hr h1 p b h1 p p hr div a i div a i div a i div a i hr div div script script ---> https://www.tutorialspoint.com/current_affairs_march_2016/index.htm\n",
      "---------\n",
      "schwitzsplinters.blogspot.com:\n",
      "p a a br br br br a br br br br br br br br i a br br i i br br a br br br br br br i a div ---> https://schwitzsplinters.blogspot.com/2012/03/\n",
      "p blockquote p p br blockquote p p br br i br br a br br div ---> https://schwitzsplinters.blogspot.com/2009/09/\n",
      "p p a p a img p p a a p a a p a a p a a a a a a p a a a i p a a p p a div ---> https://schwitzsplinters.blogspot.com/2013/04/\n",
      "p i a a a a a br br br br a br br i div ---> https://schwitzsplinters.blogspot.com/2011/\n",
      "p a br br br br br a em a br br br br br br br br em div ---> http://schwitzsplinters.blogspot.com/search/label/Tamler%20Sommers\n",
      "---------\n",
      "www.kdnuggets.com:\n",
      "div img a p b a p img p p p a img p p h3 p br p h3 p br p h3 p br p h3 p br p h3 p br p p p h3 p br p h3 p br p p h3 p br p h3 p br p p h3 p br p h3 p br p h3 p br p h3 p br p h3 p br p p br b a p a p b ul li a li a li a p a div p script ---> https://www.kdnuggets.com/2019/03/how-choose-right-chart-type.html\n",
      "strong br br br br br br br br a br br br br a br br br br img br br br br img a a br br strong br ul li a li a li a ---> https://www.kdnuggets.com/recommendations.html\n",
      "p b img br b br b a br b p a b p strong p p strong p p ul li li li li p p strong p i i u a p u a p strong p p i i i i p strong p p strong p u a u a u a p p ---> https://www.kdnuggets.com/jobs/19/03-18-wake-forest-teaching-professor-statistics.html\n",
      "div b a div img a p p p p img h3 p p p a ol li code b em li code code li code em em p b em ---> https://www.kdnuggets.com/2019/02/running-r-and-python-in-jupyter.html\n",
      "a img br b br br br br br br ul li li li br br ul li li a b ---> https://www.kdnuggets.com/2019/03/copyright-webinar-search-ai-information-discovery-life-sciences.html\n",
      "---------\n",
      "de.wikihow.com:\n",
      "b script ---> https://de.wikihow.com/R%C3%BCckenfreie-Kleider-tragen\n",
      "b script ---> https://de.wikihow.com/R%C3%BCckenfreie-Kleider-tragen\n",
      "b script ---> https://de.wikihow.com/R%C3%BCckenfreie-Kleider-tragen\n",
      "b script ---> https://de.wikihow.com/R%C3%BCckenfreie-Kleider-tragen\n",
      "b script ---> https://de.wikihow.com/R%C3%BCckenfreie-Kleider-tragen\n",
      "---------\n",
      "pt.wikihow.com:\n",
      "b script ---> https://pt.wikihow.com/Usar-um-Vestido-Frente-%C3%9Anica\n",
      "b script ---> https://pt.wikihow.com/Usar-um-Vestido-Frente-%C3%9Anica\n",
      "b script ---> https://pt.wikihow.com/Usar-um-Vestido-Frente-%C3%9Anica\n",
      "b script ---> https://pt.wikihow.com/Usar-um-Vestido-Frente-%C3%9Anica\n",
      "b script ---> https://pt.wikihow.com/Usar-um-Vestido-Frente-%C3%9Anica\n",
      "---------\n",
      "es.wikihow.com:\n",
      "b script ---> https://es.wikihow.com/lucir-un-vestido-de-espalda-baja\n",
      "b script ---> https://es.wikihow.com/lucir-un-vestido-de-espalda-baja\n",
      "b script ---> https://es.wikihow.com/lucir-un-vestido-de-espalda-baja\n",
      "b script ---> https://es.wikihow.com/lucir-un-vestido-de-espalda-baja\n",
      "b script ---> https://es.wikihow.com/lucir-un-vestido-de-espalda-baja\n",
      "---------\n",
      "www.wikihow.com:\n",
      "b sup a script ul li script ---> https://www.wikihow.com/Wash-Norwex\n",
      "b ul li li script ---> https://www.wikihow.com/Live-in-the-Woods\n",
      "b sup a ul li a a li script ---> https://www.wikihow.com/Prune-Cilantro\n",
      "b ul li script ---> https://www.wikihow.com/Remove-Drawers\n",
      "b script ---> https://www.wikihow.com/Dig-a-Bunker\n",
      "---------\n"
     ]
    }
   ],
   "source": [
    "for k1,v1 in data.items():\n",
    "    for k2,v2 in v1.items():\n",
    "        random_selected = np.random.choice(v2, size=5, replace=True)\n",
    "        chtml_and_urls = [(el[\"content_html\"], el[\"url\"]) for el in random_selected]\n",
    "        print(k2 + \":\")\n",
    "        for chtml,u in chtml_and_urls:\n",
    "            soup = BeautifulSoup(chtml)\n",
    "            chain = list(list(soup.select(\"body\")[0].descendants)[0].descendants)\n",
    "            chain_list = []\n",
    "            for el in chain:\n",
    "                if type(el) == Tag:\n",
    "                    chain_list.append(el.name)\n",
    "            print(\" \".join(chain_list) + \" ---> \" + u)\n",
    "        print(\"---------\")"
   ]
  }
 ],
 "metadata": {
  "kernelspec": {
   "display_name": "Python 3",
   "language": "python",
   "name": "python3"
  },
  "language_info": {
   "codemirror_mode": {
    "name": "ipython",
    "version": 3
   },
   "file_extension": ".py",
   "mimetype": "text/x-python",
   "name": "python",
   "nbconvert_exporter": "python",
   "pygments_lexer": "ipython3",
   "version": "3.5.6"
  }
 },
 "nbformat": 4,
 "nbformat_minor": 2
}
